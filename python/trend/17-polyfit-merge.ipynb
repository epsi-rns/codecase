{
 "cells": [
  {
   "cell_type": "code",
   "execution_count": 1,
   "id": "796e6456-ec4d-42ef-aecd-35716fcf96f0",
   "metadata": {},
   "outputs": [
    {
     "name": "stdout",
     "output_type": "stream",
     "text": [
      "[[   0    1    2    3    4    5    6    7    8    9   10   11   12]\n",
      " [   5    9   13   17   21   25   29   33   37   41   45   49   53]\n",
      " [   5   12   25   44   69  100  137  180  229  284  345  412  485]\n",
      " [   5   14   41   98  197  350  569  866 1253 1742 2345 3074 3941]]\n"
     ]
    }
   ],
   "source": [
    "import numpy as np\n",
    "\n",
    "# Getting Matrix Values\n",
    "mCSV = np.genfromtxt(\"series.csv\", skip_header=1, delimiter=\",\", dtype=float)\n",
    "mCSVt = np.transpose(mCSV)\n",
    "\n",
    "# Set the floatmode to 'fixed'\n",
    "np.set_printoptions(floatmode='fixed')\n",
    "\n",
    "# Display the transposed CSV data\n",
    "print(mCSVt.astype(int))\n"
   ]
  },
  {
   "cell_type": "code",
   "execution_count": 3,
   "id": "640aaa84-38d0-49c9-865b-6e772447061f",
   "metadata": {},
   "outputs": [
    {
     "data": {
      "text/latex": [
       "$\\displaystyle y_{1} = - 306 x - 721$"
      ],
      "text/plain": [
       "Eq(y1, -306*x - 721)"
      ]
     },
     "metadata": {},
     "output_type": "display_data"
    },
    {
     "data": {
      "text/latex": [
       "$\\displaystyle y_{2} = 39 x^{2} - 162 x + 137$"
      ],
      "text/plain": [
       "Eq(y2, 39*x**2 - 162*x + 137)"
      ]
     },
     "metadata": {},
     "output_type": "display_data"
    },
    {
     "data": {
      "text/latex": [
       "$\\displaystyle y_{3} = 2 x^{3} + 3 x^{2} - 4 x + 5$"
      ],
      "text/plain": [
       "Eq(y3, 2*x**3 + 3*x**2 - 4*x + 5)"
      ]
     },
     "metadata": {},
     "output_type": "display_data"
    }
   ],
   "source": [
    "from sympy import symbols, Eq\n",
    "from IPython.display import display\n",
    "\n",
    "# Define symbols\n",
    "x = symbols('x')\n",
    "\n",
    "# Define equations\n",
    "y1 = symbols('y1')\n",
    "y2 = symbols('y2')\n",
    "y3 = symbols('y3')\n",
    "\n",
    "# Define equations\n",
    "y1_eq = Eq(y1, -721 - 306*x)\n",
    "y2_eq = Eq(y2, 137 - 162*x + 39*x**2)\n",
    "y3_eq = Eq(y3, 5 - 4*x + 3*x**2 + 2*x**3)\n",
    "\n",
    "# Display equations\n",
    "display(y1_eq)\n",
    "display(y2_eq)\n",
    "display(y3_eq)"
   ]
  },
  {
   "cell_type": "code",
   "execution_count": null,
   "id": "ca6b8fcb-ec26-43a2-a860-a966e8d12d6b",
   "metadata": {},
   "outputs": [],
   "source": [
    "import numpy as np\n",
    "import matplotlib.pyplot as plt\n",
    "\n",
    "from typing import List"
   ]
  },
  {
   "cell_type": "code",
   "execution_count": null,
   "id": "ea1d6aa3-74b4-434d-8c65-6feac04a522b",
   "metadata": {},
   "outputs": [],
   "source": [
    "\n",
    "class CurveFitting:\n",
    "  def __init__(self, xs, ys : List[int]) -> None:\n",
    "\n",
    "    # Given data\n",
    "    self.xs = np.array(xs)\n",
    "    self.ys = np.array(ys)\n",
    "\n",
    "  def calc_coeff(self, order) -> np.ndarray:\n",
    "    # Perform regression using polyfit,\n",
    "    mC = np.polyfit(self.xs, self.ys, deg=order)\n",
    "\n",
    "    # Display\n",
    "    coeff_text = {\n",
    "      1: '(a, b)', 2: '(a, b, c)', 3: '(a, b, c, d)'}\n",
    "    order_text = {\n",
    "      1: 'Linear',  2: 'Quadratic ', 3: 'Cubic'}\n",
    "\n",
    "    print(f'Using polyfit : {order_text[order]}')\n",
    "    print(f'Coefficients  : {coeff_text[order]}:'\n",
    "      + f'\\n\\t{np.flip(mC)}\\n')\n",
    "\n",
    "    # Get coefficient matrix\n",
    "    return np.flip(mC)\n",
    "\n",
    "  def calc_plot_all(self) -> None:\n",
    "    self.x_plot = xp = np.linspace(\n",
    "      min(self.xs), max(self.xs), 100)\n",
    "\n",
    "    # Calculate coefficients directly\n",
    "    mCoeff_1st = self.calc_coeff(1)\n",
    "    mCoeff_2nd = self.calc_coeff(2)\n",
    "    mCoeff_3rd = self.calc_coeff(3)\n",
    "\n",
    "    [a1, b1] = mCoeff_1st\n",
    "    self.y1_plot = a1 + b1 * xp\n",
    "\n",
    "    [a2, b2, c2] = mCoeff_2nd\n",
    "    self.y2_plot = a2 + b2 * xp + c2 * xp ** 2\n",
    "\n",
    "    [a3, b3, c3, d3] = mCoeff_3rd\n",
    "    self.y3_plot = a3 + b3 * xp + c3 * xp ** 2 + d3 * xp ** 3\n",
    "\n",
    "  def draw_plot(self) -> None:\n",
    "    plt.scatter(self.xs, self.ys, color='teal',\n",
    "      label='Data points', )\n",
    "    plt.plot(self.x_plot, self.y1_plot, color='red',\n",
    "      label='Linear Equation')\n",
    "    plt.plot(self.x_plot, self.y2_plot, color='green',\n",
    "      label='Fitted second-order polynomial')\n",
    "    plt.plot(self.x_plot, self.y3_plot, color='blue',\n",
    "      label='Fitted third-order polynomial')\n",
    "\n",
    "    plt.legend()\n",
    "    plt.xlabel('x')\n",
    "    plt.ylabel('y')\n",
    "    plt.title('Polynomial Curve Fitting')\n",
    "\n",
    "    plt.show()\n",
    "\n",
    "  def process(self) -> None:\n",
    "    self.calc_plot_all()\n",
    "    self.draw_plot()"
   ]
  },
  {
   "cell_type": "code",
   "execution_count": null,
   "id": "2fcd49c2-2677-4b00-a45a-8aa25390c1ab",
   "metadata": {},
   "outputs": [],
   "source": [
    "def main() -> int:\n",
    "  # Getting Matrix Values\n",
    "  mCSV = np.genfromtxt(\"series.csv\",\n",
    "    skip_header=1, delimiter=\",\", dtype=float)\n",
    "  mCSVt   = np.transpose(mCSV)\n",
    "\n",
    "  example = CurveFitting(mCSVt[0], mCSVt[3])\n",
    "  example.process()\n",
    "\n",
    "if __name__ == \"__main__\":\n",
    "  main()"
   ]
  },
  {
   "cell_type": "code",
   "execution_count": null,
   "id": "7777a37f-7ca9-4bd1-991e-e6d33a93001d",
   "metadata": {},
   "outputs": [],
   "source": []
  }
 ],
 "metadata": {
  "kernelspec": {
   "display_name": "Python 3 (ipykernel)",
   "language": "python",
   "name": "python3"
  },
  "language_info": {
   "codemirror_mode": {
    "name": "ipython",
    "version": 3
   },
   "file_extension": ".py",
   "mimetype": "text/x-python",
   "name": "python",
   "nbconvert_exporter": "python",
   "pygments_lexer": "ipython3",
   "version": "3.11.8"
  }
 },
 "nbformat": 4,
 "nbformat_minor": 5
}
