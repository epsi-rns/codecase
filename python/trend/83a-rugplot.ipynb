{
 "cells": [
  {
   "cell_type": "code",
   "execution_count": 1,
   "id": "50ca5569-6cae-43fe-b0bf-a24d5db7a378",
   "metadata": {},
   "outputs": [
    {
     "name": "stdout",
     "output_type": "stream",
     "text": [
      "    xs  ys1  ys2   ys3\n",
      "0    0    5    5     5\n",
      "1    1    9   12    14\n",
      "2    2   13   25    41\n",
      "3    3   17   44    98\n",
      "4    4   21   69   197\n",
      "5    5   25  100   350\n",
      "6    6   29  137   569\n",
      "7    7   33  180   866\n",
      "8    8   37  229  1253\n",
      "9    9   41  284  1742\n",
      "10  10   45  345  2345\n",
      "11  11   49  412  3074\n",
      "12  12   53  485  3941\n"
     ]
    }
   ],
   "source": [
    "import pandas as pd\n",
    "\n",
    "# Read data from CSV file directly\n",
    "df = pd.read_csv(\"series.csv\") \\\n",
    "  .rename(columns=lambda x: x.strip())\n",
    "\n",
    "print(df)"
   ]
  },
  {
   "cell_type": "code",
   "execution_count": 2,
   "id": "bdce1e3b-82a3-4185-b70e-105555f5581c",
   "metadata": {},
   "outputs": [],
   "source": [
    "import pandas as pd\n",
    "import seaborn as sns\n",
    "import matplotlib.pyplot as plt"
   ]
  },
  {
   "cell_type": "code",
   "execution_count": 3,
   "id": "0c17a9c9-1330-48db-ace8-7ebeb5768fec",
   "metadata": {},
   "outputs": [],
   "source": [
    "# Read data from CSV file directly\n",
    "# into a pandas DataFrame\n",
    "df = pd.read_csv(\"series.csv\")"
   ]
  },
  {
   "cell_type": "code",
   "execution_count": 4,
   "id": "fa901812-22c7-4203-844d-30b67b2b195f",
   "metadata": {},
   "outputs": [],
   "source": [
    "# Melt the DataFrame to long format for rugplot\n",
    "df_melted = pd.melt(df, id_vars='xs',\n",
    "  var_name='Category', value_name='Value')"
   ]
  },
  {
   "cell_type": "code",
   "execution_count": 5,
   "id": "701216c1-e5f1-4a9b-b829-f41d04574a60",
   "metadata": {},
   "outputs": [
    {
     "name": "stdout",
     "output_type": "stream",
     "text": [
      "            0     1     2     3     4     5     6     7     8     9   ...  \\\n",
      "xs           0     1     2     3     4     5     6     7     8     9  ...   \n",
      "Category   ys1   ys1   ys1   ys1   ys1   ys1   ys1   ys1   ys1   ys1  ...   \n",
      "Value        5     9    13    17    21    25    29    33    37    41  ...   \n",
      "\n",
      "            29    30    31    32    33    34    35    36    37    38  \n",
      "xs           3     4     5     6     7     8     9    10    11    12  \n",
      "Category   ys3   ys3   ys3   ys3   ys3   ys3   ys3   ys3   ys3   ys3  \n",
      "Value       98   197   350   569   866  1253  1742  2345  3074  3941  \n",
      "\n",
      "[3 rows x 39 columns]\n"
     ]
    }
   ],
   "source": [
    "print(df_melted.T)"
   ]
  },
  {
   "cell_type": "code",
   "execution_count": 6,
   "id": "f638bc02-f429-4bad-a45d-8d260b12f3bb",
   "metadata": {},
   "outputs": [],
   "source": [
    "# Set the style of seaborn\n",
    "sns.set_style(\"ticks\")"
   ]
  },
  {
   "cell_type": "code",
   "execution_count": 7,
   "id": "2255f9e2-086b-45b7-8386-fb560889e8f1",
   "metadata": {},
   "outputs": [],
   "source": [
    "# Define a color palette for the rug plots\n",
    "# Use one less color for 'xs'\n",
    "palette = sns.color_palette(\n",
    "  \"husl\", len(df.columns) - 1) "
   ]
  },
  {
   "cell_type": "code",
   "execution_count": 8,
   "id": "e3f5822f-1ea7-4513-9658-51b700c80a10",
   "metadata": {},
   "outputs": [
    {
     "data": {
      "text/plain": [
       "<matplotlib.legend.Legend at 0x7886d3fc4210>"
      ]
     },
     "execution_count": 8,
     "metadata": {},
     "output_type": "execute_result"
    },
    {
     "data": {
      "image/png": "[encoded data removed]",
      "text/plain": [
       "<Figure size 800x600 with 1 Axes>"
      ]
     },
     "metadata": {},
     "output_type": "display_data"
    }
   ],
   "source": [
    "# Create rug plot for each category\n",
    "plt.figure(figsize=(8, 6))\n",
    "\n",
    "# Exclude 'xs' column\n",
    "for i, col in enumerate(df.columns[1:]):\n",
    "  df_subset = df_melted[df_melted['Category'] == col]\n",
    "  sns.rugplot(data=df_subset, x='Value',\n",
    "    color=palette[i], label=col, alpha=0.7)\n",
    "\n",
    "# Add title and labels\n",
    "plt.title('Rug Plot for ys1, ys2, and ys3')\n",
    "plt.xlabel('Value')\n",
    "plt.ylabel('Density')\n",
    "\n",
    "# Add legend\n",
    "plt.legend(title='Category', loc='upper left')"
   ]
  },
  {
   "cell_type": "code",
   "execution_count": null,
   "id": "99465840-1f6e-451a-97df-59ae13410e09",
   "metadata": {},
   "outputs": [],
   "source": []
  },
  {
   "cell_type": "code",
   "execution_count": null,
   "id": "1adac4ff-3174-42c7-beef-182641ed98f0",
   "metadata": {},
   "outputs": [],
   "source": []
  }
 ],
 "metadata": {
  "kernelspec": {
   "display_name": "Python 3 (ipykernel)",
   "language": "python",
   "name": "python3"
  },
  "language_info": {
   "codemirror_mode": {
    "name": "ipython",
    "version": 3
   },
   "file_extension": ".py",
   "mimetype": "text/x-python",
   "name": "python",
   "nbconvert_exporter": "python",
   "pygments_lexer": "ipython3",
   "version": "3.11.8"
  }
 },
 "nbformat": 4,
 "nbformat_minor": 5
}
