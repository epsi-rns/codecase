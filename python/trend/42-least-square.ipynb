{
 "cells": [
  {
   "cell_type": "code",
   "execution_count": 1,
   "id": "bac6304b-e153-46c0-9758-cd39861c474c",
   "metadata": {},
   "outputs": [],
   "source": [
    "import numpy as np"
   ]
  },
  {
   "cell_type": "code",
   "execution_count": 2,
   "id": "ea58259f-647b-4edf-9bb2-129ced4ca38f",
   "metadata": {},
   "outputs": [],
   "source": [
    "# Given data\n",
    "x_values = np.array(\n",
    "  [0, 1, 2, 3, 4, 5, 6, 7, 8, 9, 10, 11, 12])\n",
    "y_values = np.array(\n",
    "  [5, 12, 25, 44, 69, 100, 137,\n",
    "    180, 229, 284, 345, 412, 485])"
   ]
  },
  {
   "cell_type": "code",
   "execution_count": 3,
   "id": "b4c443af-d784-434d-84e7-43fbf06dd491",
   "metadata": {},
   "outputs": [
    {
     "name": "stdout",
     "output_type": "stream",
     "text": [
      "n =    13\n",
      "∑x (total) =   78.00\n",
      "∑y (total) = 2327.00\n",
      "x̄ (mean)   =    6.00\n",
      "ȳ (mean)   =  179.00\n",
      "\n"
     ]
    }
   ],
   "source": [
    "# Number of data points\n",
    "n = len(x_values)\n",
    "\n",
    "# Calculate sums\n",
    "sum_x = np.sum(x_values)\n",
    "sum_y = np.sum(y_values)\n",
    "\n",
    "# Calculate means\n",
    "mean_x = np.mean(x_values)\n",
    "mean_y = np.mean(y_values)\n",
    "\n",
    "# Output of basic properties\n",
    "print(f'n = {n:5d}')\n",
    "print(f'∑x (total) = {sum_x:7.2f}')\n",
    "print(f'∑y (total) = {sum_y:7.2f}')\n",
    "print(f'x̄ (mean)   = {mean_x:7.2f}')\n",
    "print(f'ȳ (mean)   = {mean_y:7.2f}')\n",
    "print()"
   ]
  },
  {
   "cell_type": "code",
   "execution_count": 4,
   "id": "ed78533c-f322-4ed8-8734-16ae78effaf5",
   "metadata": {},
   "outputs": [
    {
     "name": "stdout",
     "output_type": "stream",
     "text": [
      "Manual Calculation\n",
      "Coefficients (b = -61.00, m = 40.00)\n",
      "\n"
     ]
    }
   ],
   "source": [
    "# Calculate deviations\n",
    "deviation_x = x_values - mean_x\n",
    "deviation_y = y_values - mean_y\n",
    "\n",
    "# Calculate squared deviations\n",
    "sq_deviation_x = np.sum(deviation_x ** 2)\n",
    "\n",
    "# Calculate cross-deviation\n",
    "cross_deviation_xy = np.sum(deviation_x * deviation_y)\n",
    "\n",
    "# Calculate slope (m) and intercept (b)\n",
    "slope_m = cross_deviation_xy / sq_deviation_x\n",
    "intercept_b = mean_y - slope_m * mean_x\n",
    "\n",
    "print('Manual Calculation')\n",
    "print(f'Coefficients (b = {intercept_b:2,.2f},'\n",
    "    + f' m = {slope_m:2,.2f})\\n')"
   ]
  },
  {
   "cell_type": "code",
   "execution_count": null,
   "id": "16d8fce9-bbb1-4aa1-b55b-20051f637c1b",
   "metadata": {},
   "outputs": [],
   "source": []
  }
 ],
 "metadata": {
  "kernelspec": {
   "display_name": "Python 3 (ipykernel)",
   "language": "python",
   "name": "python3"
  },
  "language_info": {
   "codemirror_mode": {
    "name": "ipython",
    "version": 3
   },
   "file_extension": ".py",
   "mimetype": "text/x-python",
   "name": "python",
   "nbconvert_exporter": "python",
   "pygments_lexer": "ipython3",
   "version": "3.11.8"
  }
 },
 "nbformat": 4,
 "nbformat_minor": 5
}
