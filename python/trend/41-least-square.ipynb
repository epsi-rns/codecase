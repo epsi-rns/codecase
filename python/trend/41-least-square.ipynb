{
 "cells": [
  {
   "cell_type": "code",
   "execution_count": 1,
   "id": "c5a91c3e-3148-4996-b5af-40ecc099b58b",
   "metadata": {},
   "outputs": [],
   "source": [
    "import numpy as np\n",
    "import statsmodels.api as sm\n",
    "\n",
    "from scipy import stats"
   ]
  },
  {
   "cell_type": "code",
   "execution_count": 2,
   "id": "6acac275-0d99-42f8-86f4-3bde40c19a94",
   "metadata": {},
   "outputs": [],
   "source": [
    "# Given data\n",
    "x_values = np.array(\n",
    "  [0, 1, 2, 3, 4, 5, 6, 7, 8, 9, 10, 11, 12])\n",
    "y_values = np.array(\n",
    "  [5, 12, 25, 44, 69, 100, 137,\n",
    "    180, 229, 284, 345, 412, 485])"
   ]
  },
  {
   "cell_type": "code",
   "execution_count": 3,
   "id": "056172a2-2b1f-4395-94ab-c41031c5857d",
   "metadata": {},
   "outputs": [
    {
     "name": "stdout",
     "output_type": "stream",
     "text": [
      "Using polyfit\n",
      "Coefficients (b = -61.00, m = 40.00)\n",
      "\n"
     ]
    }
   ],
   "source": [
    "# Perform least squares regression\n",
    "# for a linear model (polynomial degree 1)\n",
    "order = 1\n",
    "mC    = np.polyfit(x_values, y_values, deg=order)\n",
    "m     = mC[0]\n",
    "b     = mC[1]\n",
    "\n",
    "print('Using polyfit')\n",
    "print(f'Coefficients (b = {b:2,.2f}, m = {m:2,.2f})\\n')"
   ]
  },
  {
   "cell_type": "code",
   "execution_count": 4,
   "id": "d62c9013-101e-4a8a-bf53-3add585e9e7c",
   "metadata": {},
   "outputs": [
    {
     "name": "stdout",
     "output_type": "stream",
     "text": [
      "Using linregress\n",
      "Coefficients (b = -61.00, m = 40.00)\n",
      "\n"
     ]
    }
   ],
   "source": [
    "# SciPy: scientific computing built on top of NumPy.\n",
    "m, b, _, _, _ = stats.linregress(x_values, y_values)\n",
    "\n",
    "print('Using linregress')\n",
    "print(f'Coefficients (b = {b:2,.2f}, m = {m:2,.2f})\\n')"
   ]
  },
  {
   "cell_type": "code",
   "execution_count": 5,
   "id": "bc7495e0-36e3-48e4-b32c-c5741044efbb",
   "metadata": {},
   "outputs": [
    {
     "name": "stdout",
     "output_type": "stream",
     "text": [
      "Using Statsmodels\n",
      "Coefficients (b = -61.00, m = 40.00)\n",
      "\n"
     ]
    }
   ],
   "source": [
    "# Statsmodels: statistical modeling and hypothesis testing.\n",
    "x = sm.add_constant(x_values)\n",
    "model = sm.OLS(y_values, x).fit()\n",
    "b = model.params[0]\n",
    "m = model.params[1]\n",
    "\n",
    "print('Using Statsmodels')\n",
    "print(f'Coefficients (b = {b:2,.2f}, m = {m:2,.2f})\\n')"
   ]
  },
  {
   "cell_type": "code",
   "execution_count": null,
   "id": "2f2a4e4a-cb62-435b-95ab-a73ef81350a8",
   "metadata": {},
   "outputs": [],
   "source": []
  }
 ],
 "metadata": {
  "kernelspec": {
   "display_name": "Python 3 (ipykernel)",
   "language": "python",
   "name": "python3"
  },
  "language_info": {
   "codemirror_mode": {
    "name": "ipython",
    "version": 3
   },
   "file_extension": ".py",
   "mimetype": "text/x-python",
   "name": "python",
   "nbconvert_exporter": "python",
   "pygments_lexer": "ipython3",
   "version": "3.11.8"
  }
 },
 "nbformat": 4,
 "nbformat_minor": 5
}
