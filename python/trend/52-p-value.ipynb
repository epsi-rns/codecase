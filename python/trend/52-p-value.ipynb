{
 "cells": [
  {
   "cell_type": "code",
   "execution_count": 1,
   "id": "acb62cc6-cba7-45dd-91bf-5fba3210af76",
   "metadata": {},
   "outputs": [
    {
     "name": "stdout",
     "output_type": "stream",
     "text": [
      "[[  0   1   2   3   4   5   6   7   8   9  10  11  12]\n",
      " [  5  12  25  44  69 100 137 180 229 284 345 412 485]]\n"
     ]
    }
   ],
   "source": [
    "import numpy as np\n",
    "\n",
    "# Getting Matrix Values\n",
    "mCSV = np.genfromtxt(\"50-samples.csv\", skip_header=1, delimiter=\",\", dtype=float)\n",
    "mCSVt = np.transpose(mCSV)\n",
    "\n",
    "# Set the floatmode to 'fixed'\n",
    "np.set_printoptions(floatmode='fixed')\n",
    "\n",
    "# Display the transposed CSV data\n",
    "print(mCSVt.astype(int))"
   ]
  },
  {
   "cell_type": "code",
   "execution_count": 2,
   "id": "6527f381-fcb3-4e39-b60a-44b8040fc951",
   "metadata": {},
   "outputs": [],
   "source": [
    "import numpy as np\n",
    "from scipy.stats import linregress\n",
    "from scipy.stats import t as t_distribution"
   ]
  },
  {
   "cell_type": "code",
   "execution_count": 3,
   "id": "89313765-955a-4c36-a886-22c57a8407da",
   "metadata": {},
   "outputs": [],
   "source": [
    "# Getting Matrix Values\n",
    "pairCSV = np.genfromtxt(\"50-samples.csv\",\n",
    "  skip_header=1, delimiter=\",\", dtype=float)\n",
    "\n",
    "# Extract x and y values from CSV data\n",
    "x_observed = pairCSV[:, 0]\n",
    "y_observed = pairCSV[:, 1]"
   ]
  },
  {
   "cell_type": "code",
   "execution_count": 4,
   "id": "eb5326d9-395d-434f-aba0-a2049733f221",
   "metadata": {},
   "outputs": [],
   "source": [
    "# Number of data points\n",
    "n = len(x_observed)\n",
    "\n",
    "# Calculate slope (m), intercept (b),\n",
    "# and other regression parameters\n",
    "m_slope, b_intercept, r_value, p_value, \\\n",
    "std_err_slope = linregress(x_observed, y_observed)\n",
    "\n",
    "# Create regression line\n",
    "y_fit = m_slope * x_observed + b_intercept\n",
    "y_err = y_observed - y_fit"
   ]
  },
  {
   "cell_type": "code",
   "execution_count": 5,
   "id": "2a27ecbb-e9aa-4732-9904-49bcfa77ef80",
   "metadata": {},
   "outputs": [],
   "source": [
    "# Calculate degrees of freedom\n",
    "df = n - 2\n",
    "\n",
    "# Calculate variance of residuals (MSE)\n",
    "var_residuals = np.sum(y_err ** 2) / (n - 2)\n",
    "\n",
    "# Calculate t-value\n",
    "t_value = m_slope / std_err_slope\n",
    "\n",
    "# Calculate two-tailed p-value\n",
    "p_value = 2 * (1 - t_distribution.cdf(abs(t_value), df))"
   ]
  },
  {
   "cell_type": "code",
   "execution_count": 6,
   "id": "fe6ae343-4248-4082-89d9-f499cc6bf73b",
   "metadata": {},
   "outputs": [
    {
     "name": "stdout",
     "output_type": "stream",
     "text": [
      "Slope (m): 40.00\n",
      "Standard error of the slope: 3.00\n",
      "t-value: 13.33\n",
      "Two-tailed p-value: 0.0000000391\n",
      "\n"
     ]
    }
   ],
   "source": [
    "# Output the results\n",
    "print(f'Slope (m): {m_slope:.2f}')\n",
    "print(f'Standard error of the slope: {std_err_slope:.2f}')\n",
    "print(f't-value: {t_value:.2f}')\n",
    "print(f'Two-tailed p-value: {p_value:.10f}')\n",
    "print()"
   ]
  },
  {
   "cell_type": "code",
   "execution_count": 7,
   "id": "3aaebd17-31a6-443d-8961-4e867578f0f3",
   "metadata": {},
   "outputs": [
    {
     "name": "stdout",
     "output_type": "stream",
     "text": [
      "Critical t-value: 2.2009851601\n",
      "Manually calculated p-value: 0.0000000391\n"
     ]
    }
   ],
   "source": [
    "# Define the significance level (alpha)\n",
    "alpha = 0.05  # for a two-tailed test\n",
    "\n",
    "# Calculate critical t-value\n",
    "critical_t = t_distribution.ppf(1 - alpha / 2, df)\n",
    "\n",
    "# Calculate the p-value manually\n",
    "td = t_distribution.cdf(abs(t_value), df)\n",
    "if abs(t_value) > critical_t:\n",
    "  p_value_manual = 2 * (1 - td)\n",
    "else:\n",
    "  p_value_manual = 2 * td\n",
    "\n",
    "print(f'Critical t-value: {critical_t:.10f}')\n",
    "print(f'Manually calculated p-value: {p_value_manual:.10f}')"
   ]
  },
  {
   "cell_type": "code",
   "execution_count": null,
   "id": "34a37c5a-9a3c-4e34-8a44-5e2d20e7caaf",
   "metadata": {},
   "outputs": [],
   "source": []
  }
 ],
 "metadata": {
  "kernelspec": {
   "display_name": "Python 3 (ipykernel)",
   "language": "python",
   "name": "python3"
  },
  "language_info": {
   "codemirror_mode": {
    "name": "ipython",
    "version": 3
   },
   "file_extension": ".py",
   "mimetype": "text/x-python",
   "name": "python",
   "nbconvert_exporter": "python",
   "pygments_lexer": "ipython3",
   "version": "3.11.8"
  }
 },
 "nbformat": 4,
 "nbformat_minor": 5
}
