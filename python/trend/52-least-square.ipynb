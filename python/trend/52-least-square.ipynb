{
 "cells": [
  {
   "cell_type": "code",
   "execution_count": 1,
   "id": "2ba492db-e804-4340-bafc-713e1059d143",
   "metadata": {},
   "outputs": [],
   "source": [
    "import numpy as np\n",
    "from scipy.stats import linregress\n",
    "from typing import Dict\n",
    "\n",
    "class Dict2Obj:\n",
    "  def __init__(self, properties_dict):\n",
    "    self.__dict__.update(properties_dict)\n",
    "\n",
    "def get_properties(file_path) -> Dict:\n",
    "  # Getting Matrix Values\n",
    "  pairCSV = np.genfromtxt(file_path,\n",
    "    skip_header=1, delimiter=\",\", dtype=float)\n",
    "  \n",
    "  # Extract x and y values from CSV data\n",
    "  x_observed = pairCSV[:, 0]\n",
    "  y_observed = pairCSV[:, 1]\n",
    "\n",
    "  # Number of data points\n",
    "  n = len(x_observed)\n",
    "\n",
    "  # Calculate sums\n",
    "  x_sum = np.sum(x_observed)\n",
    "  y_sum = np.sum(y_observed)\n",
    "\n",
    "  # Calculate means\n",
    "  x_mean = np.mean(x_observed)\n",
    "  y_mean = np.mean(y_observed)\n",
    "\n",
    "  # Calculate variance (for sample)\n",
    "  x_variance = np.var(x_observed, ddof=1)\n",
    "  y_variance = np.var(y_observed, ddof=1)\n",
    "\n",
    "  # Calculate covariance (for sample)\n",
    "  xy_covariance = np.cov(\n",
    "    x_observed, y_observed, ddof=1)[0, 1]\n",
    "\n",
    "  # Calculate standard deviations\n",
    "  x_std_dev = np.std(x_observed, ddof=1)\n",
    "  y_std_dev = np.std(y_observed, ddof=1)\n",
    "\n",
    "  # Calculate slope (m), intercept (b),\n",
    "  # and other regression parameters\n",
    "  m_slope, b_intercept, r_value, p_value, \\\n",
    "  std_err_slope = linregress(x_observed, y_observed)\n",
    "\n",
    "  # Create regression line\n",
    "  y_fit = m_slope * x_observed + b_intercept\n",
    "  y_err = y_observed - y_fit\n",
    "\n",
    "  return locals()\n",
    "\n",
    "def display(properties: Dict) -> None:\n",
    "  p = Dict2Obj(properties)\n",
    "\n",
    "  # Output basic properties\n",
    "  print(f'{f\"n\":10s} = {p.n:4d}')\n",
    "  print(f'∑x (total) = {p.x_sum:7.2f}')\n",
    "  print(f'∑y (total) = {p.y_sum:7.2f}')\n",
    "  print(f'x̄ (mean)   = {p.x_mean:7.2f}')\n",
    "  print(f'ȳ (mean)   = {p.y_mean:7.2f}')\n",
    "  print()\n",
    "\n",
    "  # Output statistics properties\n",
    "  print(f'sₓ² (variance) = {p.x_variance:9.2f}')\n",
    "  print(f'sy² (variance) = {p.y_variance:9.2f}')\n",
    "  print(f'covariance     = {p.xy_covariance:9.2f}')\n",
    "  print(f'sₓ (std dev)   = {p.x_std_dev:9.2f}')\n",
    "  print(f'sy (std dev)   = {p.y_std_dev:9.2f}')\n",
    "  print(f'm (slope)      = {p.m_slope:9.2f}')\n",
    "  print(f'b (intercept)  = {p.b_intercept:9.2f}')\n",
    "  print()\n",
    "\n",
    "  print(f'Equation     y = ' \\\n",
    "    + f'{p.b_intercept:5.2f} + {p.m_slope:5.2f}.x')\n",
    "  print()\n",
    "  \n"
   ]
  },
  {
   "cell_type": "code",
   "execution_count": 2,
   "id": "05d3f32d-70c7-48fb-b095-4c01809a7f63",
   "metadata": {},
   "outputs": [
    {
     "name": "stdout",
     "output_type": "stream",
     "text": [
      "n          =   13\n",
      "∑x (total) =   78.00\n",
      "∑y (total) = 2327.00\n",
      "x̄ (mean)   =    6.00\n",
      "ȳ (mean)   =  179.00\n",
      "\n",
      "sₓ² (variance) =     15.17\n",
      "sy² (variance) =  25768.17\n",
      "covariance     =    606.67\n",
      "sₓ (std dev)   =      3.89\n",
      "sy (std dev)   =    160.52\n",
      "m (slope)      =     40.00\n",
      "b (intercept)  =    -61.00\n",
      "\n",
      "Equation     y = -61.00 + 40.00.x\n",
      "\n"
     ]
    }
   ],
   "source": [
    "import numpy as np\n",
    "\n",
    "# Load properties from Properties.py helper\n",
    "# and unpack them into local variables\n",
    "properties = get_properties(\"50-samples.csv\")\n",
    "display(properties)\n",
    "locals().update(properties)"
   ]
  },
  {
   "cell_type": "code",
   "execution_count": 3,
   "id": "0e5a4bb0-290d-4d27-8c91-c0d091ffa67b",
   "metadata": {},
   "outputs": [
    {
     "name": "stdout",
     "output_type": "stream",
     "text": [
      "sₓ (std dev)   =      3.89\n",
      "sy (std dev)   =    160.52\n",
      "r (pearson)    =      0.97\n",
      "R²             =      0.94\n",
      "\n"
     ]
    }
   ],
   "source": [
    "# Calculate R-squared (R²)\n",
    "r_squared = r_value ** 2\n",
    "\n",
    "# Output of correlation calculation\n",
    "\n",
    "print(f'sₓ (std dev)   = {x_std_dev:9.2f}')\n",
    "print(f'sy (std dev)   = {y_std_dev:9.2f}')\n",
    "print(f'r (pearson)    = {r_value:9.2f}')\n",
    "print(f'R²             = {r_squared:9.2f}')\n",
    "print()"
   ]
  },
  {
   "cell_type": "code",
   "execution_count": 4,
   "id": "1fcd46b6-6146-47bd-8780-02cc59f32ee2",
   "metadata": {},
   "outputs": [
    {
     "name": "stdout",
     "output_type": "stream",
     "text": [
      "MSE = ∑ϵ²/(n-2)     =   1638.00\n",
      "SE(β₁)  = √(MSE/sₓ) =      3.00\n",
      "t-value = β̅₁/SE(β₁) =     13.33\n",
      "\n"
     ]
    }
   ],
   "source": [
    "# Create regression line\n",
    "y_fit = m_slope * x_observed + b_intercept\n",
    "y_err = y_observed - y_fit\n",
    "\n",
    "# Calculate variance of residuals (MSE)\n",
    "var_residuals = np.sum(y_err ** 2) / (n - 2)\n",
    "\n",
    "# Calculate t-value\n",
    "t_value = m_slope / std_err_slope\n",
    "\n",
    "# Output the results\n",
    "print(f'MSE = ∑ϵ²/(n-2)     = {var_residuals:9.2f}')\n",
    "print(f'SE(β₁)  = √(MSE/sₓ) = {std_err_slope:9.2f}')\n",
    "print(f't-value = β̅₁/SE(β₁) = {t_value:9.2f}')\n",
    "print()"
   ]
  },
  {
   "cell_type": "code",
   "execution_count": null,
   "id": "086f0734-2966-4b0c-b492-b02dfab78555",
   "metadata": {},
   "outputs": [],
   "source": []
  }
 ],
 "metadata": {
  "kernelspec": {
   "display_name": "Python 3 (ipykernel)",
   "language": "python",
   "name": "python3"
  },
  "language_info": {
   "codemirror_mode": {
    "name": "ipython",
    "version": 3
   },
   "file_extension": ".py",
   "mimetype": "text/x-python",
   "name": "python",
   "nbconvert_exporter": "python",
   "pygments_lexer": "ipython3",
   "version": "3.11.8"
  }
 },
 "nbformat": 4,
 "nbformat_minor": 5
}
