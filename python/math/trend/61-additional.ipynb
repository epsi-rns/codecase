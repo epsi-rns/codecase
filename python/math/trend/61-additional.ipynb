{
 "cells": [
  {
   "cell_type": "code",
   "execution_count": 1,
   "id": "0d3ce41c-5d0e-41da-9b77-829a1608c9d6",
   "metadata": {},
   "outputs": [
    {
     "name": "stdout",
     "output_type": "stream",
     "text": [
      "[[  0   1   2   3   4   5   6   7   8   9  10  11  12]\n",
      " [  5  12  25  44  69 100 137 180 229 284 345 412 485]]\n"
     ]
    }
   ],
   "source": [
    "import numpy as np\n",
    "\n",
    "# Getting Matrix Values\n",
    "mCSV = np.genfromtxt(\"50-samples.csv\", skip_header=1, delimiter=\",\", dtype=float)\n",
    "mCSVt = np.transpose(mCSV)\n",
    "\n",
    "# Set the floatmode to 'fixed'\n",
    "np.set_printoptions(floatmode='fixed')\n",
    "\n",
    "# Display the transposed CSV data\n",
    "print(mCSVt.astype(int))"
   ]
  },
  {
   "cell_type": "code",
   "execution_count": 2,
   "id": "de1e3811-a73b-4633-a267-eec5fa5fc781",
   "metadata": {},
   "outputs": [],
   "source": [
    "import numpy as np\n",
    "import statistics\n",
    "\n",
    "from scipy.stats import kurtosis, skew\n",
    "\n",
    "# Getting Matrix Values\n",
    "pairCSV = np.genfromtxt(\"50-samples.csv\",\n",
    "  skip_header=1, delimiter=\",\", dtype=int)\n",
    "\n",
    "# Extract x and y values from CSV data\n",
    "x_observed = pairCSV[:, 0]\n",
    "y_observed = pairCSV[:, 1]"
   ]
  },
  {
   "cell_type": "code",
   "execution_count": 3,
   "id": "03ab5290-9087-47dd-b4d8-25ba23f77691",
   "metadata": {},
   "outputs": [
    {
     "name": "stdout",
     "output_type": "stream",
     "text": [
      "x (max, min, range) = (   0.00,   12.00,   12.00 )\n",
      "y (max, min, range) = (   5.00,  485.00,  480.00 )\n",
      "\n"
     ]
    }
   ],
   "source": [
    "# Number of data points\n",
    "n = len(x_observed)\n",
    "\n",
    "# Calculate maximum, minimum, and range\n",
    "x_max = np.max(x_observed)\n",
    "x_min = np.min(x_observed)\n",
    "x_range = x_max - x_min\n",
    "\n",
    "y_max = np.max(y_observed)\n",
    "y_min = np.min(y_observed)\n",
    "y_range = y_max - y_min\n",
    "\n",
    "# Output of maximum, minimum, and range\n",
    "print('x (max, min, range) = '\n",
    " + f'({x_min:7.2f}, {x_max:7.2f}, {x_range:7.2f} )')\n",
    "print('y (max, min, range) = '\n",
    " + f'({y_min:7.2f}, {y_max:7.2f}, {y_range:7.2f} )')\n",
    "print()"
   ]
  },
  {
   "cell_type": "code",
   "execution_count": 4,
   "id": "1e30ec62-7d22-4305-ab2d-f0d1bb2bbc27",
   "metadata": {},
   "outputs": [],
   "source": [
    "def calc_median(data: np.array) -> float:\n",
    "  # Sort the data\n",
    "  sorted_data = np.sort(data)\n",
    "\n",
    "  # Calculate the median\n",
    "  n = len(sorted_data)\n",
    "  if n % 2 == 1:\n",
    "    # If odd number of data points\n",
    "    median = sorted_data[n // 2]\n",
    "  else:\n",
    "    # If even number of data points\n",
    "    median = (sorted_data[n // 2 - 1] \\\n",
    "           +  sorted_data[n // 2]) / 2\n",
    "  \n",
    "  return median"
   ]
  },
  {
   "cell_type": "code",
   "execution_count": 5,
   "id": "0f3e2168-e6f2-424a-a5e6-49ba12c27616",
   "metadata": {},
   "outputs": [
    {
     "name": "stdout",
     "output_type": "stream",
     "text": [
      "x median       =      6.00\n",
      "y median       =    137.00\n",
      "x mode         =      0.00\n",
      "y mode         =      5.00\n",
      "\n"
     ]
    }
   ],
   "source": [
    "# Calculate additional propeties\n",
    "x_median = calc_median(x_observed)\n",
    "y_median = calc_median(y_observed)\n",
    "\n",
    "x_mode = statistics.mode(x_observed)\n",
    "y_mode = statistics.mode(y_observed)\n",
    "\n",
    "# Output of additional propeties\n",
    "print(f'x median       = {x_median:9.2f}')\n",
    "print(f'y median       = {y_median:9.2f}')\n",
    "print(f'x mode         = {x_mode:9.2f}')\n",
    "print(f'y mode         = {y_mode:9.2f}')\n",
    "print()"
   ]
  },
  {
   "cell_type": "code",
   "execution_count": 7,
   "id": "bc6c8971-07e8-4910-845b-b4e5ef425760",
   "metadata": {},
   "outputs": [
    {
     "name": "stdout",
     "output_type": "stream",
     "text": [
      "x kurtosis     =     -1.21\n",
      "y kurtosis     =     -0.91\n",
      "x skewness     =      0.00\n",
      "y skewness     =      0.61\n",
      "\n"
     ]
    }
   ],
   "source": [
    "# Calculate kurtosis and skewness\n",
    "x_kurtosis = kurtosis(x_observed)\n",
    "y_kurtosis = kurtosis(y_observed)\n",
    "\n",
    "x_skewness = skew(x_observed)\n",
    "y_skewness = skew(y_observed)\n",
    "\n",
    "print(f'x kurtosis     = {x_kurtosis:9.2f}')\n",
    "print(f'y kurtosis     = {y_kurtosis:9.2f}')\n",
    "print(f'x skewness     = {x_skewness:9.2f}')\n",
    "print(f'y skewness     = {y_skewness:9.2f}')\n",
    "print()"
   ]
  },
  {
   "cell_type": "code",
   "execution_count": 8,
   "id": "32798a82-da8f-45ce-90f5-bad0022a1abb",
   "metadata": {},
   "outputs": [],
   "source": [
    "def calc_se_kurtosis(n):\n",
    "  return np.sqrt( \\\n",
    "    (24 * n * (n - 2) * (n - 3)) \\\n",
    "    / ((n + 1) * (n + 3) * (n - 1) ** 2))\n",
    "\n",
    "def calc_se_skewness(n):\n",
    "  return np.sqrt( \\\n",
    "    (6 * n * (n - 1)) \\\n",
    "    / ((n - 2) * (n + 1) * (n + 3)))\n",
    "\n",
    "def calc_se_kurtosis_gaussian(n):\n",
    "  return np.sqrt( \\\n",
    "    (4 * n**2 * calc_se_skewness(n)**2) \\\n",
    "    / ((n - 3) * (n + 5)))"
   ]
  },
  {
   "cell_type": "code",
   "execution_count": 9,
   "id": "a802f74b-dc51-42ca-9fa7-5be6e48e9489",
   "metadata": {},
   "outputs": [
    {
     "name": "stdout",
     "output_type": "stream",
     "text": [
      "x SE kurtosis  =      1.19\n",
      "y SE kurtosis  =      1.19\n",
      "x SE skewness  =      0.62\n",
      "y SE skewness  =      0.62\n",
      "\n"
     ]
    }
   ],
   "source": [
    "# number of data points\n",
    "x_n = len(x_observed)\n",
    "y_n = len(y_observed)\n",
    "\n",
    "# Calculate SE kurtosis and SE skewness\n",
    "x_se_kurtosis = calc_se_kurtosis_gaussian(x_n)\n",
    "y_se_kurtosis = calc_se_kurtosis_gaussian(y_n)\n",
    "x_se_skewness = calc_se_skewness(x_n)\n",
    "y_se_skewness = calc_se_skewness(y_n)\n",
    "\n",
    "print(f'x SE kurtosis  = {x_se_kurtosis:9.2f}')\n",
    "print(f'y SE kurtosis  = {y_se_kurtosis:9.2f}')\n",
    "print(f'x SE skewness  = {x_se_skewness:9.2f}')\n",
    "print(f'y SE skewness  = {y_se_skewness:9.2f}')\n",
    "print()\n"
   ]
  },
  {
   "cell_type": "code",
   "execution_count": null,
   "id": "e8f0fc77-2110-4ec2-bcd3-9ac84f427796",
   "metadata": {},
   "outputs": [],
   "source": []
  }
 ],
 "metadata": {
  "kernelspec": {
   "display_name": "Python 3 (ipykernel)",
   "language": "python",
   "name": "python3"
  },
  "language_info": {
   "codemirror_mode": {
    "name": "ipython",
    "version": 3
   },
   "file_extension": ".py",
   "mimetype": "text/x-python",
   "name": "python",
   "nbconvert_exporter": "python",
   "pygments_lexer": "ipython3",
   "version": "3.11.8"
  }
 },
 "nbformat": 4,
 "nbformat_minor": 5
}
