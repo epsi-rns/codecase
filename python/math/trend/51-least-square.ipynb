{
 "cells": [
  {
   "cell_type": "code",
   "execution_count": 1,
   "id": "42b28d6c-d5b7-4c57-a22d-2afe9869c927",
   "metadata": {},
   "outputs": [
    {
     "name": "stdout",
     "output_type": "stream",
     "text": [
      "[[  0   1   2   3   4   5   6   7   8   9  10  11  12]\n",
      " [  5  12  25  44  69 100 137 180 229 284 345 412 485]]\n"
     ]
    }
   ],
   "source": [
    "import numpy as np\n",
    "\n",
    "# Getting Matrix Values\n",
    "mCSV = np.genfromtxt(\"50-samples.csv\", skip_header=1, delimiter=\",\", dtype=float)\n",
    "mCSVt = np.transpose(mCSV)\n",
    "\n",
    "# Set the floatmode to 'fixed'\n",
    "np.set_printoptions(floatmode='fixed')\n",
    "\n",
    "# Display the transposed CSV data\n",
    "print(mCSVt.astype(int))"
   ]
  },
  {
   "cell_type": "code",
   "execution_count": 2,
   "id": "38679209-01a9-4cd8-b9a1-96e99e661cdd",
   "metadata": {},
   "outputs": [],
   "source": [
    "import numpy as np"
   ]
  },
  {
   "cell_type": "code",
   "execution_count": 3,
   "id": "eadd9f31-c084-449f-b18a-a7458f540bfe",
   "metadata": {},
   "outputs": [],
   "source": [
    "# Getting Matrix Values\n",
    "pairCSV = np.genfromtxt(\"50-samples.csv\",\n",
    "  skip_header=1, delimiter=\",\", dtype=float)\n",
    "\n",
    "# Extract x and y values from CSV data\n",
    "x_observed = pairCSV[:, 0]\n",
    "y_observed = pairCSV[:, 1]"
   ]
  },
  {
   "cell_type": "code",
   "execution_count": 4,
   "id": "5a31d90e-185b-4827-a145-ebc837501ca9",
   "metadata": {},
   "outputs": [
    {
     "name": "stdout",
     "output_type": "stream",
     "text": [
      "n          =   13\n",
      "∑x (total) =   78.00\n",
      "∑y (total) = 2327.00\n",
      "x̄ (mean)   =    6.00\n",
      "ȳ (mean)   =  179.00\n",
      "\n"
     ]
    }
   ],
   "source": [
    "# Number of data points\n",
    "n = len(x_observed)\n",
    "\n",
    "# Calculate sums\n",
    "x_sum = np.sum(x_observed)\n",
    "y_sum = np.sum(y_observed)\n",
    "\n",
    "# Calculate means\n",
    "x_mean = np.mean(x_observed)\n",
    "y_mean = np.mean(y_observed)\n",
    "\n",
    "# Output of basic properties\n",
    "print(f'{f\"n\":10s} = {n:4d}')\n",
    "print(f'∑x (total) = {x_sum:7.2f}')\n",
    "print(f'∑y (total) = {y_sum:7.2f}')\n",
    "print(f'x̄ (mean)   = {x_mean:7.2f}')\n",
    "print(f'ȳ (mean)   = {y_mean:7.2f}')\n",
    "print()"
   ]
  },
  {
   "cell_type": "code",
   "execution_count": 5,
   "id": "d4e5dd1b-1495-41d2-bc31-0e14acd7378a",
   "metadata": {},
   "outputs": [
    {
     "name": "stdout",
     "output_type": "stream",
     "text": [
      "∑(xᵢ-x̄)    =      0.00\n",
      "∑(yᵢ-ȳ)    =      0.00\n",
      "∑(xᵢ-x̄)²   =    182.00\n",
      "∑(yᵢ-ȳ)²   = 309218.00\n",
      "∑(xᵢ-x̄)(yᵢ-ȳ)  =   7280.00\n",
      "m (slope)      =     40.00\n",
      "b (intercept)  =    -61.00\n",
      "\n",
      "Equation     y = -61.00 + 40.00.x\n",
      "\n"
     ]
    }
   ],
   "source": [
    "# Calculate deviations\n",
    "x_deviation = x_observed - x_mean\n",
    "y_deviation = y_observed - y_mean\n",
    "\n",
    "# Calculate squared deviations\n",
    "x_sq_deviation = np.sum(x_deviation ** 2)\n",
    "y_sq_deviation = np.sum(y_deviation ** 2)\n",
    "\n",
    "# Calculate cross-deviation\n",
    "xy_cross_deviation = np.sum(x_deviation * y_deviation)\n",
    "# Calculate slope (m) and intercept (b)\n",
    "m_slope = xy_cross_deviation / x_sq_deviation\n",
    "b_intercept = y_mean - m_slope * x_mean\n",
    "\n",
    "# Output of least square calculation\n",
    "print(f'∑(xᵢ-x̄)    = {np.sum(x_deviation):9.2f}')\n",
    "print(f'∑(yᵢ-ȳ)    = {np.sum(y_deviation):9.2f}')\n",
    "print(f'∑(xᵢ-x̄)²   = {x_sq_deviation:9.2f}')\n",
    "print(f'∑(yᵢ-ȳ)²   = {y_sq_deviation:9.2f}')\n",
    "print(f'∑(xᵢ-x̄)(yᵢ-ȳ)  = {xy_cross_deviation:9.2f}')\n",
    "print(f'm (slope)      = {m_slope:9.2f}')\n",
    "print(f'b (intercept)  = {b_intercept:9.2f}')\n",
    "print()\n",
    "\n",
    "print(f'Equation     y = ' \\\n",
    "  + f'{b_intercept:5.2f} + {m_slope:5.2f}.x')\n",
    "print()"
   ]
  },
  {
   "cell_type": "code",
   "execution_count": 6,
   "id": "345c9f60-0b99-4650-9f55-a857c56443a0",
   "metadata": {},
   "outputs": [
    {
     "name": "stdout",
     "output_type": "stream",
     "text": [
      "sₓ² (variance) =     15.17\n",
      "sy² (variance) =  25768.17\n",
      "covariance     =    606.67\n",
      "sₓ (std dev)   =      3.89\n",
      "sy (std dev)   =    160.52\n",
      "r (pearson)    =      0.97\n",
      "R²             =      0.94\n",
      "\n"
     ]
    }
   ],
   "source": [
    "# Calculate variance\n",
    "x_variance = x_sq_deviation / (n-1)\n",
    "y_variance = y_sq_deviation / (n-1)\n",
    "\n",
    "# Calculate covariance\n",
    "xy_covariance = xy_cross_deviation / (n-1)\n",
    "\n",
    "# Calculate standard deviations\n",
    "x_std_dev = np.sqrt(x_variance)\n",
    "y_std_dev = np.sqrt(y_variance)\n",
    "\n",
    "# Calculate Pearson correlation coefficient (r)\n",
    "r = xy_covariance / (x_std_dev * y_std_dev)\n",
    "\n",
    "# Calculate R-squared (R²)\n",
    "r_squared = r ** 2\n",
    "\n",
    "# Output of correlation calculation\n",
    "print(f'sₓ² (variance) = {x_variance:9.2f}')\n",
    "print(f'sy² (variance) = {y_variance:9.2f}')\n",
    "print(f'covariance     = {xy_covariance:9.2f}')\n",
    "print(f'sₓ (std dev)   = {x_std_dev:9.2f}')\n",
    "print(f'sy (std dev)   = {y_std_dev:9.2f}')\n",
    "print(f'r (pearson)    = {r:9.2f}')\n",
    "print(f'R²             = {r_squared:9.2f}')\n",
    "print()"
   ]
  },
  {
   "cell_type": "code",
   "execution_count": 7,
   "id": "dbaed6a2-4446-40de-a5be-6db1a195c722",
   "metadata": {},
   "outputs": [
    {
     "name": "stdout",
     "output_type": "stream",
     "text": [
      "SSR = ∑ϵ²           =  18018.00\n",
      "MSE = ∑ϵ²/(n-2)     =   1638.00\n",
      "SE(β₁)  = √(MSE/sₓ) =      3.00\n",
      "t-value = β̅₁/SE(β₁) =     13.33\n",
      "\n"
     ]
    }
   ],
   "source": [
    "# Create regression line\n",
    "y_fit = m_slope * x_observed + b_intercept\n",
    "y_err = y_observed - y_fit\n",
    "\n",
    "# Calculate sum of squared residuals\n",
    "ss_residuals = np.sum(y_err ** 2)\n",
    "\n",
    "# Calculate degrees of freedom\n",
    "df = n - 2\n",
    "\n",
    "# Calculate variance of residuals (MSE)\n",
    "var_residuals = ss_residuals / df\n",
    "\n",
    "# Calculate standard error of the slope\n",
    "std_err_slope = np.sqrt(var_residuals / x_sq_deviation)\n",
    "\n",
    "# Calculate t-value\n",
    "t_value = m_slope / std_err_slope\n",
    "\n",
    "# Output the results\n",
    "print(f'SSR = ∑ϵ²           = {ss_residuals:9.2f}')\n",
    "print(f'MSE = ∑ϵ²/(n-2)     = {var_residuals:9.2f}')\n",
    "print(f'SE(β₁)  = √(MSE/sₓ) = {std_err_slope:9.2f}')\n",
    "print(f't-value = β̅₁/SE(β₁) = {t_value:9.2f}')\n",
    "print()"
   ]
  },
  {
   "cell_type": "code",
   "execution_count": null,
   "id": "b5ad6438-eb57-469c-a778-95c60a7ccfa4",
   "metadata": {},
   "outputs": [],
   "source": []
  }
 ],
 "metadata": {
  "kernelspec": {
   "display_name": "Python 3 (ipykernel)",
   "language": "python",
   "name": "python3"
  },
  "language_info": {
   "codemirror_mode": {
    "name": "ipython",
    "version": 3
   },
   "file_extension": ".py",
   "mimetype": "text/x-python",
   "name": "python",
   "nbconvert_exporter": "python",
   "pygments_lexer": "ipython3",
   "version": "3.11.8"
  }
 },
 "nbformat": 4,
 "nbformat_minor": 5
}
