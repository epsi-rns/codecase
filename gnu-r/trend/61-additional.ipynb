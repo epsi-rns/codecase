{
 "cells": [
  {
   "cell_type": "code",
   "execution_count": 1,
   "id": "860f47bd-19cf-4aa7-93a1-bfec9d9d7f33",
   "metadata": {},
   "outputs": [],
   "source": [
    "# Load required library\n",
    "library(e1071)"
   ]
  },
  {
   "cell_type": "code",
   "execution_count": 2,
   "id": "c7624c80-2aef-4154-a8df-acd3dbb4a86c",
   "metadata": {},
   "outputs": [],
   "source": [
    "# Read CSV file\n",
    "pairCSV <- read.csv(\"50-samples.csv\", header = TRUE)\n",
    "\n",
    "# Extract x and y values from CSV data\n",
    "x_observed <- pairCSV[[1]]\n",
    "y_observed <- pairCSV[[2]]"
   ]
  },
  {
   "cell_type": "code",
   "execution_count": 3,
   "id": "a3f76b7d-007b-4b03-ae0f-59fec771ff60",
   "metadata": {},
   "outputs": [
    {
     "name": "stdout",
     "output_type": "stream",
     "text": [
      "x (max, min, range) = (   0.00,   12.00,   12.00 )\n",
      "y (max, min, range) = (   5.00,  485.00,  480.00 )\n",
      "\n"
     ]
    }
   ],
   "source": [
    "# Number of data points\n",
    "n <- length(x_observed)\n",
    "\n",
    "# Calculate maximum, minimum, and range\n",
    "x_max <- max(x_observed)\n",
    "x_min <- min(x_observed)\n",
    "x_range <- x_max - x_min\n",
    "\n",
    "y_max <- max(y_observed)\n",
    "y_min <- min(y_observed)\n",
    "y_range <- y_max - y_min\n",
    "\n",
    "# Output of maximum, minimum, and range\n",
    "cat(sprintf('x (max, min, range) = (%7.2f, %7.2f, %7.2f )\\n', x_min, x_max, x_range))\n",
    "cat(sprintf('y (max, min, range) = (%7.2f, %7.2f, %7.2f )\\n\\n', y_min, y_max, y_range))"
   ]
  },
  {
   "cell_type": "code",
   "execution_count": 4,
   "id": "5d0fecd9-498b-489f-be3a-bf197f428ba5",
   "metadata": {},
   "outputs": [
    {
     "name": "stdout",
     "output_type": "stream",
     "text": [
      "x median       =      6.00\n",
      "y median       =    137.00\n",
      "x mode         =      0.00\n",
      "y mode         =      5.00\n",
      "\n"
     ]
    }
   ],
   "source": [
    "x_median <- median(x_observed)\n",
    "y_median <- median(y_observed)\n",
    "\n",
    "# Mode\n",
    "x_mode <- as.numeric(names(which.max(table(x_observed))))\n",
    "y_mode <- as.numeric(names(which.max(table(y_observed))))\n",
    "\n",
    "# Output of additional properties\n",
    "cat(sprintf('x median       = %9.2f\\n', x_median))\n",
    "cat(sprintf('y median       = %9.2f\\n', y_median))\n",
    "cat(sprintf('x mode         = %9.2f\\n', x_mode))\n",
    "cat(sprintf('y mode         = %9.2f\\n\\n', y_mode))"
   ]
  },
  {
   "cell_type": "code",
   "execution_count": 5,
   "id": "f0c4a946-9c85-41bd-90df-5ebb41aad86e",
   "metadata": {},
   "outputs": [
    {
     "name": "stdout",
     "output_type": "stream",
     "text": [
      "x kurtosis     =     -1.48\n",
      "y kurtosis     =     -1.22\n",
      "x skewness     =      0.00\n",
      "y skewness     =      0.54\n",
      "\n"
     ]
    }
   ],
   "source": [
    "# Calculate kurtosis and skewness\n",
    "x_kurtosis <- kurtosis(x_observed)\n",
    "y_kurtosis <- kurtosis(y_observed)\n",
    "\n",
    "x_skewness <- skewness(x_observed)\n",
    "y_skewness <- skewness(y_observed)\n",
    "\n",
    "cat(sprintf('x kurtosis     = %9.2f\\n', x_kurtosis))\n",
    "cat(sprintf('y kurtosis     = %9.2f\\n', y_kurtosis))\n",
    "cat(sprintf('x skewness     = %9.2f\\n', x_skewness))\n",
    "cat(sprintf('y skewness     = %9.2f\\n\\n', y_skewness))"
   ]
  },
  {
   "cell_type": "code",
   "execution_count": 6,
   "id": "c1d2a767-b44d-4a12-af64-24cacf0b16d5",
   "metadata": {},
   "outputs": [],
   "source": [
    "# Calculate SE kurtosis and SE skewness\n",
    "calc_se_kurtosis_gaussian <- function(n) {\n",
    "  sqrt(4 * n^2 * calc_se_skewness(n)^2 / ((n - 3) * (n + 5)))\n",
    "}\n",
    "\n",
    "calc_se_skewness <- function(n) {\n",
    "  sqrt((6 * n * (n - 1)) / ((n - 2) * (n + 1) * (n + 3)))\n",
    "}"
   ]
  },
  {
   "cell_type": "code",
   "execution_count": 7,
   "id": "6eda478a-9fec-4c2f-aab6-ec3c53d7289d",
   "metadata": {},
   "outputs": [
    {
     "name": "stdout",
     "output_type": "stream",
     "text": [
      "x SE kurtosis  =      1.19\n",
      "y SE kurtosis  =      1.19\n",
      "x SE skewness  =      0.62\n",
      "y SE skewness  =      0.62\n"
     ]
    }
   ],
   "source": [
    "# Number of data points\n",
    "x_n <- length(x_observed)\n",
    "y_n <- length(y_observed)\n",
    "\n",
    "x_se_kurtosis <- calc_se_kurtosis_gaussian(x_n)\n",
    "y_se_kurtosis <- calc_se_kurtosis_gaussian(y_n)\n",
    "x_se_skewness <- calc_se_skewness(x_n)\n",
    "y_se_skewness <- calc_se_skewness(y_n)\n",
    "\n",
    "cat(sprintf('x SE kurtosis  = %9.2f\\n', x_se_kurtosis))\n",
    "cat(sprintf('y SE kurtosis  = %9.2f\\n', y_se_kurtosis))\n",
    "cat(sprintf('x SE skewness  = %9.2f\\n', x_se_skewness))\n",
    "cat(sprintf('y SE skewness  = %9.2f\\n', y_se_skewness))"
   ]
  },
  {
   "cell_type": "code",
   "execution_count": null,
   "id": "aa491a6f-20db-43d8-b8e6-13aef66020f3",
   "metadata": {},
   "outputs": [],
   "source": []
  }
 ],
 "metadata": {
  "kernelspec": {
   "display_name": "R",
   "language": "R",
   "name": "ir"
  },
  "language_info": {
   "codemirror_mode": "r",
   "file_extension": ".r",
   "mimetype": "text/x-r-source",
   "name": "R",
   "pygments_lexer": "r",
   "version": "4.3.3"
  }
 },
 "nbformat": 4,
 "nbformat_minor": 5
}
