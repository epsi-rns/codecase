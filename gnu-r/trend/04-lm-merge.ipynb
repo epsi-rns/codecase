{
 "cells": [
  {
   "cell_type": "code",
   "execution_count": 1,
   "id": "c5bcd541-211c-4435-b04e-fbb2bebc767f",
   "metadata": {},
   "outputs": [],
   "source": [
    "calc_coeff <- function(x_values, y_values, order) {\n",
    "  # Perform linear regression using lm()\n",
    "  lm_model <- lm(y_values ~ \n",
    "    poly(x_values, order, raw = TRUE))\n",
    "\n",
    "  # Define a named vector\n",
    "  # to map order numbers to curve types\n",
    "  coeff_text <- c(\n",
    "    \"(a, b)\" = 1, \"(a, b, c)\" = 2, \"(a, b, c, d)\" = 3)\n",
    "  order_text <- c(\n",
    "    \"Linear\" = 1, \"Quadratic\" = 2, \"Cubic\" = 3)\n",
    "\n",
    "  # Print the curve type\n",
    "  cat(paste(\"Using lm_model :\",\n",
    "    names(order_text)[order], \"\\n\"))\n",
    "\n",
    "  # Coefficients\n",
    "  coefficients <- coef(lm_model)\n",
    "\n",
    "  # Reverse order to match output\n",
    "  coefficients <- coefficients[\n",
    "    length(coefficients):1]\n",
    "\n",
    "  # Print coefficients\n",
    "  cat(\"Coefficients \",\n",
    "    names(coeff_text)[order], \":\\n\\t\",\n",
    "    coefficients, \"\\n\")\n",
    "}"
   ]
  },
  {
   "cell_type": "code",
   "execution_count": 2,
   "id": "1583a1f6-6de4-4eba-bdab-b9ee4804cbc1",
   "metadata": {},
   "outputs": [],
   "source": [
    "# Load required library\n",
    "library(readr)\n",
    "\n",
    "# Read data from CSV file\n",
    "data <- read_csv(\n",
    "  \"series.csv\",\n",
    "  show_col_types = FALSE)"
   ]
  },
  {
   "cell_type": "code",
   "execution_count": 3,
   "id": "7c3cdd0a-26f4-46dd-9680-41f40ab0d5e4",
   "metadata": {},
   "outputs": [
    {
     "name": "stdout",
     "output_type": "stream",
     "text": [
      "Using lm_model : Linear \n",
      "Coefficients  (a, b) :\n",
      "\t 4 5 \n"
     ]
    }
   ],
   "source": [
    "calc_coeff(data$xs, data$ys1, 1)"
   ]
  },
  {
   "cell_type": "code",
   "execution_count": 4,
   "id": "161c76d4-4aa1-41eb-b734-3aaab7d8092d",
   "metadata": {},
   "outputs": [
    {
     "name": "stdout",
     "output_type": "stream",
     "text": [
      "Using lm_model : Quadratic \n",
      "Coefficients  (a, b, c) :\n",
      "\t 3 4 5 \n"
     ]
    }
   ],
   "source": [
    "calc_coeff(data$xs, data$ys2, 2)"
   ]
  },
  {
   "cell_type": "code",
   "execution_count": 5,
   "id": "134d77e6-f11f-4489-8829-eba5dab29d32",
   "metadata": {},
   "outputs": [
    {
     "name": "stdout",
     "output_type": "stream",
     "text": [
      "Using lm_model : Cubic \n",
      "Coefficients  (a, b, c, d) :\n",
      "\t 2 3 4 5 \n"
     ]
    }
   ],
   "source": [
    "calc_coeff(data$xs, data$ys3, 3)"
   ]
  },
  {
   "cell_type": "code",
   "execution_count": null,
   "id": "a1b674db-3436-41da-9584-fff663c9ba7b",
   "metadata": {},
   "outputs": [],
   "source": []
  }
 ],
 "metadata": {
  "kernelspec": {
   "display_name": "R",
   "language": "R",
   "name": "ir"
  },
  "language_info": {
   "codemirror_mode": "r",
   "file_extension": ".r",
   "mimetype": "text/x-r-source",
   "name": "R",
   "pygments_lexer": "r",
   "version": "4.3.3"
  }
 },
 "nbformat": 4,
 "nbformat_minor": 5
}
