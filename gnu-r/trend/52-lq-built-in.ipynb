{
 "cells": [
  {
   "cell_type": "code",
   "execution_count": 2,
   "id": "3fe2a3c2-7fe4-4007-9f98-dea85304d3bc",
   "metadata": {},
   "outputs": [],
   "source": [
    "# Read CSV file\n",
    "pairCSV <- read.csv(\"50-samples.csv\", header = TRUE)\n",
    "\n",
    "# Extract x and y values from CSV data\n",
    "x_observed <- pairCSV[, 1]\n",
    "y_observed <- pairCSV[, 2]"
   ]
  },
  {
   "cell_type": "code",
   "execution_count": 3,
   "id": "1375d60c-db65-4f0d-84ce-48b9374b4e47",
   "metadata": {},
   "outputs": [
    {
     "name": "stdout",
     "output_type": "stream",
     "text": [
      "n          =   13\n",
      "∑x (total) =   78.00\n",
      "∑y (total) = 2327.00\n",
      "x̄ (mean)   =    6.00\n",
      "ȳ (mean)   =  179.00\n",
      "\n"
     ]
    }
   ],
   "source": [
    "# Number of data points\n",
    "n <- length(x_observed)\n",
    "\n",
    "# Calculate sums\n",
    "x_sum <- sum(x_observed)\n",
    "y_sum <- sum(y_observed)\n",
    "\n",
    "# Calculate means\n",
    "x_mean <- mean(x_observed)\n",
    "y_mean <- mean(y_observed)\n",
    "\n",
    "# Output of basic properties\n",
    "cat(sprintf(\"%-10s = %4d\\n\", \"n\", n))\n",
    "cat(sprintf(\"∑x (total) = %7.2f\\n\", x_sum))\n",
    "cat(sprintf(\"∑y (total) = %7.2f\\n\", y_sum))\n",
    "cat(sprintf(\"x̄ (mean)   = %7.2f\\n\", x_mean))\n",
    "cat(sprintf(\"ȳ (mean)   = %7.2f\\n\\n\", y_mean))"
   ]
  },
  {
   "cell_type": "code",
   "execution_count": 4,
   "id": "31eb272f-dd36-4c56-8321-4a46b8684d1d",
   "metadata": {},
   "outputs": [
    {
     "name": "stdout",
     "output_type": "stream",
     "text": [
      "∑(xᵢ-x̄)    =      0.00\n",
      "∑(yᵢ-ȳ)    =      0.00\n",
      "∑(xᵢ-x̄)²   =    182.00\n",
      "∑(yᵢ-ȳ)²   = 309218.00\n",
      "∑(xᵢ-x̄)(yᵢ-ȳ)  =   7280.00\n",
      "m (slope)      =     40.00\n",
      "b (intercept)  =    -61.00\n",
      "\n"
     ]
    }
   ],
   "source": [
    "# Calculate deviations\n",
    "x_deviation <- x_observed - x_mean\n",
    "y_deviation <- y_observed - y_mean\n",
    "\n",
    "# Calculate squared deviations\n",
    "x_sq_deviation <- sum(x_deviation^2)\n",
    "y_sq_deviation <- sum(y_deviation^2)\n",
    "\n",
    "# Calculate cross-deviation\n",
    "xy_cross_deviation <- sum(x_deviation * y_deviation)\n",
    "\n",
    "# Calculate slope (m) and intercept (b)\n",
    "m_slope <- lm(y_observed ~ x_observed)$coefficients[2]\n",
    "b_intercept <- lm(y_observed ~ x_observed)$coefficients[1]\n",
    "\n",
    "# Output of least square calculation\n",
    "cat(sprintf(\"∑(xᵢ-x̄)    = %9.2f\\n\", sum(x_deviation)))\n",
    "cat(sprintf(\"∑(yᵢ-ȳ)    = %9.2f\\n\", sum(y_deviation)))\n",
    "cat(sprintf(\"∑(xᵢ-x̄)²   = %9.2f\\n\", x_sq_deviation))\n",
    "cat(sprintf(\"∑(yᵢ-ȳ)²   = %9.2f\\n\", y_sq_deviation))\n",
    "cat(sprintf(\"∑(xᵢ-x̄)(yᵢ-ȳ)  = %9.2f\\n\", xy_cross_deviation))\n",
    "cat(sprintf(\"m (slope)      = %9.2f\\n\", m_slope))\n",
    "cat(sprintf(\"b (intercept)  = %9.2f\\n\\n\", b_intercept))"
   ]
  },
  {
   "cell_type": "code",
   "execution_count": 5,
   "id": "b3e17719-f98f-4604-95b8-9d8d30e83d9b",
   "metadata": {},
   "outputs": [
    {
     "name": "stdout",
     "output_type": "stream",
     "text": [
      "Equation     y = -61.00 + 40.00.x\n",
      "\n"
     ]
    }
   ],
   "source": [
    "cat(sprintf(\"Equation     y = %5.2f + %5.2f.x\\n\\n\", b_intercept, m_slope))"
   ]
  },
  {
   "cell_type": "code",
   "execution_count": 6,
   "id": "9fd5facc-25e4-495f-afe2-affecea32697",
   "metadata": {},
   "outputs": [
    {
     "name": "stdout",
     "output_type": "stream",
     "text": [
      "sₓ² (variance) =     15.17\n",
      "sy² (variance) =  25768.17\n",
      "covariance     =    606.67\n",
      "sₓ (std dev)   =      3.89\n",
      "sy (std dev)   =    160.52\n",
      "r (pearson)    =      0.97\n",
      "R²             =      0.94\n",
      "\n"
     ]
    }
   ],
   "source": [
    "# Calculate variance\n",
    "x_variance <- var(x_observed)\n",
    "y_variance <- var(y_observed)\n",
    "\n",
    "# Calculate covariance\n",
    "xy_covariance <- cov(x_observed, y_observed)\n",
    "\n",
    "# Calculate standard deviations\n",
    "x_std_dev <- sd(x_observed)\n",
    "y_std_dev <- sd(y_observed)\n",
    "\n",
    "# Calculate Pearson correlation coefficient (r)\n",
    "r <- cor(x_observed, y_observed)\n",
    "\n",
    "# Calculate R-squared (R²)\n",
    "r_squared <- r^2\n",
    "\n",
    "# Output of correlation calculation\n",
    "cat(sprintf(\"sₓ² (variance) = %9.2f\\n\", x_variance))\n",
    "cat(sprintf(\"sy² (variance) = %9.2f\\n\", y_variance))\n",
    "cat(sprintf(\"covariance     = %9.2f\\n\", xy_covariance))\n",
    "cat(sprintf(\"sₓ (std dev)   = %9.2f\\n\", x_std_dev))\n",
    "cat(sprintf(\"sy (std dev)   = %9.2f\\n\", y_std_dev))\n",
    "cat(sprintf(\"r (pearson)    = %9.2f\\n\", r))\n",
    "cat(sprintf(\"R²             = %9.2f\\n\\n\", r_squared))"
   ]
  },
  {
   "cell_type": "code",
   "execution_count": 7,
   "id": "93edd143-9641-4dfb-8145-27a0aed21518",
   "metadata": {},
   "outputs": [
    {
     "name": "stdout",
     "output_type": "stream",
     "text": [
      "SSR = ∑ϵ²           =  18018.00\n",
      "MSE = ∑ϵ²/(n-2)     =   1638.00\n",
      "SE(β₁)  = √(MSE/sₓ) =      3.00\n",
      "t-value = β̅₁/SE(β₁) =     13.33\n"
     ]
    }
   ],
   "source": [
    "# Calculate residuals\n",
    "residuals <- residuals(lm(y_observed ~ x_observed))\n",
    "\n",
    "# Calculate sum of squared residuals\n",
    "ss_residuals <- sum(residuals^2)\n",
    "\n",
    "# Calculate degrees of freedom\n",
    "df <- n - 2\n",
    "\n",
    "# Calculate variance of residuals (MSE)\n",
    "var_residuals <- ss_residuals / df\n",
    "\n",
    "# Calculate standard error of the slope\n",
    "std_err_slope <- sqrt(var_residuals / x_sq_deviation)\n",
    "\n",
    "# Calculate t-value\n",
    "t_value <- m_slope / std_err_slope\n",
    "\n",
    "# Output the results\n",
    "cat(sprintf(\"SSR = ∑ϵ²           = %9.2f\\n\", ss_residuals))\n",
    "cat(sprintf(\"MSE = ∑ϵ²/(n-2)     = %9.2f\\n\", var_residuals))\n",
    "cat(sprintf(\"SE(β₁)  = √(MSE/sₓ) = %9.2f\\n\", std_err_slope))\n",
    "cat(sprintf(\"t-value = β̅₁/SE(β₁) = %9.2f\\n\", t_value))"
   ]
  },
  {
   "cell_type": "code",
   "execution_count": null,
   "id": "279ad6b2-2076-4562-95e9-cde1099dfd1b",
   "metadata": {},
   "outputs": [],
   "source": []
  }
 ],
 "metadata": {
  "kernelspec": {
   "display_name": "R",
   "language": "R",
   "name": "ir"
  },
  "language_info": {
   "codemirror_mode": "r",
   "file_extension": ".r",
   "mimetype": "text/x-r-source",
   "name": "R",
   "pygments_lexer": "r",
   "version": "4.3.3"
  }
 },
 "nbformat": 4,
 "nbformat_minor": 5
}
