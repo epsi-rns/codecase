{
 "cells": [
  {
   "cell_type": "code",
   "execution_count": 1,
   "id": "785cf63f-d2a1-40c7-a457-e72f6a188248",
   "metadata": {},
   "outputs": [],
   "source": [
    "# Load required library\n",
    "library(readr)\n",
    "\n",
    "# Read data from CSV file\n",
    "data <- read_csv(\n",
    "  \"series.csv\",\n",
    "  show_col_types = FALSE)"
   ]
  },
  {
   "cell_type": "code",
   "execution_count": 2,
   "id": "4c027573-28e2-4eb4-a04e-9b1d999a57f9",
   "metadata": {},
   "outputs": [
    {
     "name": "stdout",
     "output_type": "stream",
     "text": [
      "cols(\n",
      "  xs = \u001b[32mcol_double()\u001b[39m,\n",
      "  ys1 = \u001b[32mcol_double()\u001b[39m,\n",
      "  ys2 = \u001b[32mcol_double()\u001b[39m,\n",
      "  ys3 = \u001b[32mcol_double()\u001b[39m\n",
      ")\n"
     ]
    }
   ],
   "source": [
    "# Retrieve column specifications\n",
    "column_spec <- spec(data)\n",
    "\n",
    "print(column_spec)"
   ]
  },
  {
   "cell_type": "code",
   "execution_count": 3,
   "id": "ea890c5a-9bfb-4355-887b-c827cbe3c8c1",
   "metadata": {},
   "outputs": [],
   "source": [
    "# Extract x_values and y_values\n",
    "x_values <- data$xs\n",
    "y_values <- data$ys3"
   ]
  },
  {
   "cell_type": "code",
   "execution_count": 4,
   "id": "3be18872-62c9-4946-bf4c-2f1cc22a16a6",
   "metadata": {},
   "outputs": [
    {
     "name": "stdout",
     "output_type": "stream",
     "text": [
      " [1]  0  1  2  3  4  5  6  7  8  9 10 11 12\n"
     ]
    }
   ],
   "source": [
    "print(x_values)"
   ]
  },
  {
   "cell_type": "code",
   "execution_count": 6,
   "id": "1a1febc7-e126-4611-9c6c-5059c0ac3a70",
   "metadata": {},
   "outputs": [
    {
     "name": "stdout",
     "output_type": "stream",
     "text": [
      " [1]    5   14   41   98  197  350  569  866 1253 1742 2345 3074 3941\n"
     ]
    }
   ],
   "source": [
    "print(y_values)"
   ]
  },
  {
   "cell_type": "code",
   "execution_count": 7,
   "id": "be260b59-4029-4dd2-b51a-e0df6f4c757f",
   "metadata": {},
   "outputs": [],
   "source": [
    "# Curve Fitting Order\n",
    "order <- 3\n",
    "\n",
    "# Perform cubic regression using lm()\n",
    "lm_model <- lm(y_values ~\n",
    "  poly(x_values, order, raw = TRUE))"
   ]
  },
  {
   "cell_type": "code",
   "execution_count": 8,
   "id": "ac81ff53-00be-411e-bc27-1bbd29fe0cd7",
   "metadata": {},
   "outputs": [
    {
     "name": "stdout",
     "output_type": "stream",
     "text": [
      "Coefficients (a, b, c, d):\n",
      "\t 2 3 4 5 \n"
     ]
    }
   ],
   "source": [
    "# Coefficients\n",
    "coefficients <- coef(lm_model)\n",
    "\n",
    "# Reverse order to match output\n",
    "coefficients <- coefficients[\n",
    "  length(coefficients):1]\n",
    "\n",
    "# Print coefficients\n",
    "cat(\"Coefficients (a, b, c, d):\\n\\t\",\n",
    "  coefficients, \"\\n\")"
   ]
  },
  {
   "cell_type": "code",
   "execution_count": null,
   "id": "931b3629-2f96-4d1f-a46d-14b925cccf23",
   "metadata": {},
   "outputs": [],
   "source": []
  }
 ],
 "metadata": {
  "kernelspec": {
   "display_name": "R",
   "language": "R",
   "name": "ir"
  },
  "language_info": {
   "codemirror_mode": "r",
   "file_extension": ".r",
   "mimetype": "text/x-r-source",
   "name": "R",
   "pygments_lexer": "r",
   "version": "4.3.3"
  }
 },
 "nbformat": 4,
 "nbformat_minor": 5
}
