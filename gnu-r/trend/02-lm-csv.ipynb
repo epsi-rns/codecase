{
 "cells": [
  {
   "cell_type": "code",
   "execution_count": 1,
   "id": "12f19b75-f54a-4b23-ba30-ca7709fc2133",
   "metadata": {},
   "outputs": [],
   "source": [
    "# Read data from CSV file\n",
    "data <- read.csv(\"series.csv\")\n",
    "\n",
    "# Extract x_values and y_values\n",
    "x_values <- data$xs\n",
    "y_values <- data$ys3"
   ]
  },
  {
   "cell_type": "code",
   "execution_count": 2,
   "id": "301493d5-9e5c-47e5-8c9e-a6088c220af0",
   "metadata": {},
   "outputs": [],
   "source": [
    "# Curve Fitting Order\n",
    "order <- 3\n",
    "\n",
    "# Perform cubic regression using lm()\n",
    "lm_model <- lm(y_values ~\n",
    "  poly(x_values, order, raw = TRUE))"
   ]
  },
  {
   "cell_type": "code",
   "execution_count": 3,
   "id": "9e05e940-955a-4016-8d40-a3d8afed77c7",
   "metadata": {},
   "outputs": [
    {
     "name": "stdout",
     "output_type": "stream",
     "text": [
      "Coefficients (a, b, c, d):\n",
      "\t 2 3 4 5 \n"
     ]
    }
   ],
   "source": [
    "# Coefficients\n",
    "coefficients <- coef(lm_model)\n",
    "\n",
    "# Reverse order to match output\n",
    "coefficients <- coefficients[\n",
    "  length(coefficients):1]\n",
    "\n",
    "# Print coefficients\n",
    "cat(\"Coefficients (a, b, c, d):\\n\\t\",\n",
    "  coefficients, \"\\n\")"
   ]
  },
  {
   "cell_type": "code",
   "execution_count": null,
   "id": "805d9e9a-e6cb-4a08-aa37-643e770dfb31",
   "metadata": {},
   "outputs": [],
   "source": []
  }
 ],
 "metadata": {
  "kernelspec": {
   "display_name": "R",
   "language": "R",
   "name": "ir"
  },
  "language_info": {
   "codemirror_mode": "r",
   "file_extension": ".r",
   "mimetype": "text/x-r-source",
   "name": "R",
   "pygments_lexer": "r",
   "version": "4.3.3"
  }
 },
 "nbformat": 4,
 "nbformat_minor": 5
}
