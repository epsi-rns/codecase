{
 "cells": [
  {
   "cell_type": "code",
   "execution_count": 1,
   "id": "cceccb43-a984-421d-bb1b-87cea3a3210a",
   "metadata": {},
   "outputs": [],
   "source": [
    "# Given data\n",
    "x_values <- c(\n",
    "  0, 1, 2, 3, 4, 5, 6, 7, 8, 9, 10, 11, 12)\n",
    "y_values <- c(\n",
    "  5, 14, 41, 98, 197, 350, 569, 866, \n",
    "  1253, 1742, 2345, 3074, 3941)"
   ]
  },
  {
   "cell_type": "code",
   "execution_count": 2,
   "id": "9ea2bb25-31bc-42cc-abee-6ff5c510c370",
   "metadata": {},
   "outputs": [],
   "source": [
    "# Curve Fitting Order\n",
    "order <- 3\n",
    "\n",
    "# Perform cubic regression using lm()\n",
    "lm_model <- lm(y_values ~\n",
    "  poly(x_values, order, raw = TRUE))"
   ]
  },
  {
   "cell_type": "code",
   "execution_count": 3,
   "id": "cf3e06ca-8a0c-4e61-a703-64ca34b8cb55",
   "metadata": {},
   "outputs": [
    {
     "name": "stdout",
     "output_type": "stream",
     "text": [
      "Coefficients (a, b, c, d):\n",
      "\t 2 3 4 5 \n"
     ]
    }
   ],
   "source": [
    "# Coefficients\n",
    "coefficients <- coef(lm_model)\n",
    "\n",
    "# Reverse order to match output\n",
    "coefficients <- coefficients[\n",
    "  length(coefficients):1]\n",
    "\n",
    "# Print coefficients\n",
    "cat(\"Coefficients (a, b, c, d):\\n\\t\",\n",
    "  coefficients, \"\\n\")"
   ]
  },
  {
   "cell_type": "code",
   "execution_count": null,
   "id": "0c9ff13c-32a8-43a0-b32d-3e6b3bbe64ce",
   "metadata": {},
   "outputs": [],
   "source": []
  }
 ],
 "metadata": {
  "kernelspec": {
   "display_name": "R",
   "language": "R",
   "name": "ir"
  },
  "language_info": {
   "codemirror_mode": "r",
   "file_extension": ".r",
   "mimetype": "text/x-r-source",
   "name": "R",
   "pygments_lexer": "r",
   "version": "4.3.3"
  }
 },
 "nbformat": 4,
 "nbformat_minor": 5
}
