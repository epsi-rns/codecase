{
 "cells": [
  {
   "cell_type": "code",
   "execution_count": 1,
   "id": "5f2ccfec-53f5-4d36-89f7-3e6cf5f5a23f",
   "metadata": {},
   "outputs": [],
   "source": [
    "using CSV, DataFrames, Printf, Statistics, GLM"
   ]
  },
  {
   "cell_type": "code",
   "execution_count": 2,
   "id": "bead1d46-170e-4349-92cd-7b7555147f8b",
   "metadata": {},
   "outputs": [
    {
     "name": "stdout",
     "output_type": "stream",
     "text": [
      "n          =   13\n",
      "∑x (total) =   78.00\n",
      "∑y (total) = 2327.00\n",
      "x̄ (mean)   =    6.00\n",
      "ȳ (mean)   =  179.00\n",
      "\n"
     ]
    }
   ],
   "source": [
    "# Read data from CSV file\n",
    "pairCSV = CSV.read(\"50-samples.csv\", DataFrame)\n",
    "\n",
    "# Extract x and y values from CSV data\n",
    "x_observed = pairCSV.x\n",
    "y_observed = pairCSV.y\n",
    "\n",
    "# Number of data points\n",
    "n = size(pairCSV, 1)\n",
    "\n",
    "# Calculate sums\n",
    "x_sum = sum(x_observed)\n",
    "y_sum = sum(y_observed)\n",
    "\n",
    "# Calculate means\n",
    "x_mean = mean(x_observed)\n",
    "y_mean = mean(y_observed)\n",
    "\n",
    "# Output of basic properties\n",
    "@printf(\"%-10s = %4d\\n\", \"n\", n)\n",
    "@printf(\"∑x (total) = %7.2f\\n\", x_sum)\n",
    "@printf(\"∑y (total) = %7.2f\\n\", y_sum)\n",
    "@printf(\"x̄ (mean)   = %7.2f\\n\", x_mean)\n",
    "@printf(\"ȳ (mean)   = %7.2f\\n\\n\", y_mean)"
   ]
  },
  {
   "cell_type": "code",
   "execution_count": 3,
   "id": "a330e87e-04d4-42e7-bc80-6e82b13d763f",
   "metadata": {},
   "outputs": [
    {
     "name": "stdout",
     "output_type": "stream",
     "text": [
      "m (slope)      =     40.00\n",
      "b (intercept)  =    -61.00\n",
      "\n",
      "Equation     y = -61.00 + 40.00.x\n",
      "\n"
     ]
    }
   ],
   "source": [
    "# Fit a linear model\n",
    "model = lm(@formula(y ~ x), pairCSV)\n",
    "\n",
    "# Get coefficients\n",
    "# Extract slope and intercept\n",
    "coefs = coef(model)\n",
    "m_slope = coefs[2]\n",
    "b_intercept = coefs[1]\n",
    "\n",
    "# Output of least square calculation\n",
    "@printf(\"m (slope)      = %9.2f\\n\", m_slope)\n",
    "@printf(\"b (intercept)  = %9.2f\\n\\n\", b_intercept)\n",
    "@printf(\"Equation     y = %.2f + %.2f.x\\n\\n\", b_intercept, m_slope)"
   ]
  },
  {
   "cell_type": "code",
   "execution_count": 4,
   "id": "dd2367de-95d4-4a84-b3df-ddee4dae8cc1",
   "metadata": {},
   "outputs": [
    {
     "name": "stdout",
     "output_type": "stream",
     "text": [
      "sₓ² (variance) =     15.17\n",
      "sy² (variance) =  25768.17\n",
      "covariance     =    606.67\n",
      "sₓ (std dev)   =      3.89\n",
      "sy (std dev)   =    160.52\n",
      "r (pearson)    =      0.97\n",
      "R²             =      0.94\n",
      "\n"
     ]
    }
   ],
   "source": [
    "# Calculate variance\n",
    "x_variance = var(x_observed)\n",
    "y_variance = var(y_observed)\n",
    "\n",
    "# Calculate covariance\n",
    "xy_covariance = cov(x_observed, y_observed)\n",
    "\n",
    "# Calculate standard deviations\n",
    "x_std_dev = std(x_observed)\n",
    "y_std_dev = std(y_observed)\n",
    "\n",
    "# Calculate Pearson correlation coefficient (r)\n",
    "r = cor(x_observed, y_observed)\n",
    "\n",
    "# Calculate R-squared (R²)\n",
    "r_squared = r^2\n",
    "\n",
    "# Output of correlation calculation\n",
    "@printf(\"sₓ² (variance) = %9.2f\\n\", x_variance)\n",
    "@printf(\"sy² (variance) = %9.2f\\n\", y_variance)\n",
    "@printf(\"covariance     = %9.2f\\n\", xy_covariance)\n",
    "@printf(\"sₓ (std dev)   = %9.2f\\n\", x_std_dev)\n",
    "@printf(\"sy (std dev)   = %9.2f\\n\", y_std_dev)\n",
    "@printf(\"r (pearson)    = %9.2f\\n\", r)\n",
    "@printf(\"R²             = %9.2f\\n\\n\", r_squared)"
   ]
  },
  {
   "cell_type": "code",
   "execution_count": 5,
   "id": "d75e24c9-380e-4158-a6cf-666d9fb81f1a",
   "metadata": {},
   "outputs": [
    {
     "name": "stdout",
     "output_type": "stream",
     "text": [
      "SSR = ∑ϵ²           =  18018.00\n",
      "MSE = ∑ϵ²/(n-2)     =   1638.00\n",
      "∑(xᵢ-x̄)²            =    182.00\n",
      "SE(β₁)  = √(MSE/sₓ) =      3.00\n",
      "t-value = β̅₁/SE(β₁) =     13.33\n",
      "\n"
     ]
    }
   ],
   "source": [
    "# Generate predicted values\n",
    "# Calculate residuals\n",
    "y_fit = predict(model)\n",
    "y_err = residuals(model)\n",
    "\n",
    "# Calculate sum of squared residuals\n",
    "ss_residuals = sum(y_err .^ 2)\n",
    "\n",
    "# Calculate degrees of freedom\n",
    "df = n - 2\n",
    "\n",
    "# Calculate variance of residuals (MSE)\n",
    "var_residuals = ss_residuals / df\n",
    "\n",
    "# Calculate standard error of the slope\n",
    "x_deviation = x_observed .- x_mean\n",
    "x_sq_deviation = sum(x_deviation .^ 2)\n",
    "std_err_slope = sqrt(var_residuals / x_sq_deviation)\n",
    "\n",
    "# Calculate t-value\n",
    "t_value = m_slope / std_err_slope\n",
    "\n",
    "# Output the results\n",
    "@printf(\"SSR = ∑ϵ²           = %9.2f\\n\", ss_residuals)\n",
    "@printf(\"MSE = ∑ϵ²/(n-2)     = %9.2f\\n\", var_residuals)\n",
    "@printf(\"∑(xᵢ-x̄)²            = %9.2f\\n\", x_sq_deviation)\n",
    "@printf(\"SE(β₁)  = √(MSE/sₓ) = %9.2f\\n\", std_err_slope)\n",
    "@printf(\"t-value = β̅₁/SE(β₁) = %9.2f\\n\\n\", t_value)"
   ]
  },
  {
   "cell_type": "code",
   "execution_count": null,
   "id": "c2652566-e132-4832-b055-bdca43db440e",
   "metadata": {},
   "outputs": [],
   "source": []
  }
 ],
 "metadata": {
  "kernelspec": {
   "display_name": "Julia 1.10.2",
   "language": "julia",
   "name": "julia-1.10"
  },
  "language_info": {
   "file_extension": ".jl",
   "mimetype": "application/julia",
   "name": "julia",
   "version": "1.10.2"
  }
 },
 "nbformat": 4,
 "nbformat_minor": 5
}
