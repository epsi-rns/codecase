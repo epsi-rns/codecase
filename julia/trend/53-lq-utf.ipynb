{
 "cells": [
  {
   "cell_type": "code",
   "execution_count": 1,
   "id": "6b07cbbe-b652-4292-8315-67cba113224d",
   "metadata": {},
   "outputs": [],
   "source": [
    "using CSV, DataFrames, Printf, Statistics, GLM"
   ]
  },
  {
   "cell_type": "code",
   "execution_count": 2,
   "id": "475e9745-30ab-4fd6-a7cb-651e4cfede5f",
   "metadata": {},
   "outputs": [
    {
     "data": {
      "text/plain": [
       "13-element Vector{Int64}:\n",
       "   5\n",
       "  12\n",
       "  25\n",
       "  44\n",
       "  69\n",
       " 100\n",
       " 137\n",
       " 180\n",
       " 229\n",
       " 284\n",
       " 345\n",
       " 412\n",
       " 485"
      ]
     },
     "execution_count": 2,
     "metadata": {},
     "output_type": "execute_result"
    }
   ],
   "source": [
    "# Read data from CSV file\n",
    "df = CSV.read(\"50-samples.csv\", DataFrame)\n",
    "\n",
    "# Extract x and y values from CSV data\n",
    "xᵢ = df.x\n",
    "yᵢ = df.y"
   ]
  },
  {
   "cell_type": "code",
   "execution_count": 3,
   "id": "0bbb386c-9666-45ad-b66b-ce0d158a3f1f",
   "metadata": {},
   "outputs": [
    {
     "name": "stdout",
     "output_type": "stream",
     "text": [
      "n          =   13\n",
      "∑x (total) =   78.00\n",
      "∑y (total) = 2327.00\n",
      "x̄ (mean)   =    6.00\n",
      "ȳ (mean)   =  179.00\n",
      "\n"
     ]
    }
   ],
   "source": [
    "# Number of data points\n",
    "n = length(xᵢ)\n",
    "\n",
    "# Calculate sums\n",
    "∑x = sum(xᵢ)\n",
    "∑y = sum(yᵢ)\n",
    "\n",
    "# Calculate means\n",
    "x̄ = mean(xᵢ)\n",
    "ȳ = mean(yᵢ)\n",
    "\n",
    "# Output of basic properties\n",
    "@printf(\"%-10s = %4d\\n\", \"n\", n)\n",
    "@printf(\"∑x (total) = %7.2f\\n\", ∑x)\n",
    "@printf(\"∑y (total) = %7.2f\\n\", ∑y)\n",
    "@printf(\"x̄ (mean)   = %7.2f\\n\", x̄)\n",
    "@printf(\"ȳ (mean)   = %7.2f\\n\\n\", ȳ)"
   ]
  },
  {
   "cell_type": "code",
   "execution_count": 4,
   "id": "9639bf01-8c0c-40a0-8758-b9d70a8423b1",
   "metadata": {},
   "outputs": [
    {
     "name": "stdout",
     "output_type": "stream",
     "text": [
      "sₓ² (variance) =     15.17\n",
      "sʸ² (variance) =  25768.17\n",
      "covariance     =    606.67\n",
      "sₓ (std dev)   =      3.89\n",
      "sʸ (std dev)   =    160.52\n",
      "r (pearson)    =      0.97\n",
      "R²             =      0.94\n",
      "\n"
     ]
    }
   ],
   "source": [
    "# Calculate variance\n",
    "sₓ² = sum((xᵢ .- x̄).^2) / (n - 1)\n",
    "sʸ² = sum((yᵢ .- ȳ).^2) / (n - 1)\n",
    "\n",
    "# Calculate covariance\n",
    "cov = sum((xᵢ .- x̄) .* (yᵢ .- ȳ)) / (n - 1)\n",
    "\n",
    "# Calculate standard deviations\n",
    "sₓ = sqrt(sₓ²)\n",
    "sʸ = sqrt(sʸ²)\n",
    "\n",
    "# Calculate Pearson correlation coefficient (r)\n",
    "r = cov / (sₓ * sʸ)\n",
    "\n",
    "# Calculate R-squared (R²)\n",
    "r² = r^2\n",
    "\n",
    "# Output of correlation calculation\n",
    "@printf(\"sₓ² (variance) = %9.2f\\n\", sₓ²)\n",
    "@printf(\"sʸ² (variance) = %9.2f\\n\", sʸ²)\n",
    "@printf(\"covariance     = %9.2f\\n\", cov)\n",
    "@printf(\"sₓ (std dev)   = %9.2f\\n\", sₓ)\n",
    "@printf(\"sʸ (std dev)   = %9.2f\\n\", sʸ)\n",
    "@printf(\"r (pearson)    = %9.2f\\n\", r)\n",
    "@printf(\"R²             = %9.2f\\n\\n\", r²)"
   ]
  },
  {
   "cell_type": "code",
   "execution_count": 5,
   "id": "19bab1b5-0d36-4581-b075-5ff2ec27f01c",
   "metadata": {},
   "outputs": [
    {
     "name": "stdout",
     "output_type": "stream",
     "text": [
      "m (slope)      =     40.00\n",
      "b (intercept)  =    -61.00\n",
      "\n",
      "Equation     y = -61.00 + 40.00.x\n",
      "\n"
     ]
    }
   ],
   "source": [
    "# Calculate slope (m) and intercept (b)\n",
    "mᵣ = sum((xᵢ .- x̄) .* (yᵢ .- ȳ)) / sum((xᵢ .- x̄).^2)\n",
    "bᵣ = ȳ - mᵣ * x̄\n",
    "\n",
    "@printf(\"m (slope)      = %9.2f\\n\", mᵣ)\n",
    "@printf(\"b (intercept)  = %9.2f\\n\\n\", bᵣ)\n",
    "@printf(\"Equation     y = %.2f + %.2f.x\\n\\n\", bᵣ, mᵣ)"
   ]
  },
  {
   "cell_type": "code",
   "execution_count": 6,
   "id": "81f5bead-0675-48a0-b649-31d4206eb315",
   "metadata": {},
   "outputs": [
    {
     "name": "stdout",
     "output_type": "stream",
     "text": [
      "SSR = ∑ϵ²           =  18018.00\n",
      "MSE = ∑ϵ²/(n-2)     =   1638.00\n",
      "SE(β₁)  = √(MSE/sₓ) =      3.00\n",
      "t-value = β̅₁/SE(β₁) =     13.33\n",
      "\n"
     ]
    }
   ],
   "source": [
    "# Create regression line\n",
    "ŷᵢ = mᵣ .* xᵢ .+ bᵣ\n",
    "ϵᵢ = yᵢ .- ŷᵢ\n",
    "\n",
    "# Calculate sum of squared residuals\n",
    "∑ϵ² = sum(ϵᵢ .^ 2)\n",
    "\n",
    "# Calculate degrees of freedom\n",
    "df = n - 2\n",
    "\n",
    "# Calculate variance of residuals (MSE)\n",
    "MSE = ∑ϵ² / df\n",
    "\n",
    "# Calculate standard error of the slope\n",
    "SE_β₁ = sqrt(MSE / sum((xᵢ .- x̄).^2))\n",
    "\n",
    "# Calculate t-value\n",
    "tᵥ = mᵣ / SE_β₁\n",
    "\n",
    "# Output the results\n",
    "@printf(\"SSR = ∑ϵ²           = %9.2f\\n\", ∑ϵ²)\n",
    "@printf(\"MSE = ∑ϵ²/(n-2)     = %9.2f\\n\", MSE)\n",
    "@printf(\"SE(β₁)  = √(MSE/sₓ) = %9.2f\\n\", SE_β₁)\n",
    "@printf(\"t-value = β̅₁/SE(β₁) = %9.2f\\n\\n\", tᵥ)"
   ]
  },
  {
   "cell_type": "code",
   "execution_count": null,
   "id": "a40f6bdb-1d58-4c6a-948c-9bd11bca4b4d",
   "metadata": {},
   "outputs": [],
   "source": []
  }
 ],
 "metadata": {
  "kernelspec": {
   "display_name": "Julia 1.10.2",
   "language": "julia",
   "name": "julia-1.10"
  },
  "language_info": {
   "file_extension": ".jl",
   "mimetype": "application/julia",
   "name": "julia",
   "version": "1.10.2"
  }
 },
 "nbformat": 4,
 "nbformat_minor": 5
}
