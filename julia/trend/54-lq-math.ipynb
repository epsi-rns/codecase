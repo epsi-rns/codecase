{
 "cells": [
  {
   "cell_type": "code",
   "execution_count": 1,
   "id": "55e58626-aa1f-4c99-b415-18a1ab153730",
   "metadata": {},
   "outputs": [],
   "source": [
    "using CSV, DataFrames, Printf, Statistics, GLM"
   ]
  },
  {
   "cell_type": "code",
   "execution_count": 2,
   "id": "bead8f9d-004f-4075-9613-566a6c185996",
   "metadata": {},
   "outputs": [
    {
     "data": {
      "text/plain": [
       "13-element Vector{Int64}:\n",
       "   5\n",
       "  12\n",
       "  25\n",
       "  44\n",
       "  69\n",
       " 100\n",
       " 137\n",
       " 180\n",
       " 229\n",
       " 284\n",
       " 345\n",
       " 412\n",
       " 485"
      ]
     },
     "execution_count": 2,
     "metadata": {},
     "output_type": "execute_result"
    }
   ],
   "source": [
    "# Read data from CSV file\n",
    "df = CSV.read(\"50-samples.csv\", DataFrame)\n",
    "\n",
    "# Extract x and y values from CSV data\n",
    "xᵢ = df.x\n",
    "yᵢ = df.y"
   ]
  },
  {
   "cell_type": "code",
   "execution_count": 3,
   "id": "ca8738b5-f7a0-4e56-a043-d762ee440ab5",
   "metadata": {},
   "outputs": [
    {
     "data": {
      "text/plain": [
       "√ (generic function with 1 method)"
      ]
     },
     "execution_count": 3,
     "metadata": {},
     "output_type": "execute_result"
    }
   ],
   "source": [
    "# Define symbols for functions\n",
    "∑(x) = sum(x)   # Summation\n",
    "√(x) = sqrt(x)  # Square root"
   ]
  },
  {
   "cell_type": "code",
   "execution_count": 4,
   "id": "31a12d2a-ed93-42fa-98e6-49cffed6a52a",
   "metadata": {},
   "outputs": [
    {
     "data": {
      "text/plain": [
       "179.0"
      ]
     },
     "execution_count": 4,
     "metadata": {},
     "output_type": "execute_result"
    }
   ],
   "source": [
    "# Number of data points\n",
    "n = length(xᵢ)\n",
    "\n",
    "# Calculate sums\n",
    "∑x = ∑(xᵢ)\n",
    "∑y = ∑(yᵢ)\n",
    "\n",
    "# Calculate means\n",
    "x̄ = mean(xᵢ)\n",
    "ȳ = mean(yᵢ)"
   ]
  },
  {
   "cell_type": "code",
   "execution_count": 5,
   "id": "6d5c2c16-8b94-4f84-a698-084fb030b068",
   "metadata": {},
   "outputs": [
    {
     "data": {
      "text/plain": [
       "0.9417304296645084"
      ]
     },
     "execution_count": 5,
     "metadata": {},
     "output_type": "execute_result"
    }
   ],
   "source": [
    "# Calculate variance\n",
    "sₓ² = ∑((xᵢ .- x̄).^2) / (n - 1)\n",
    "sʸ² = ∑((yᵢ .- ȳ).^2) / (n - 1)\n",
    "\n",
    "# Calculate covariance\n",
    "cov = ∑((xᵢ .- x̄) .* (yᵢ .- ȳ)) / (n - 1)\n",
    "\n",
    "# Calculate standard deviations\n",
    "sₓ = √(sₓ²)\n",
    "sʸ = √(sʸ²)\n",
    "\n",
    "# Calculate Pearson correlation coefficient (r)\n",
    "r = cov / (sₓ * sʸ)\n",
    "\n",
    "# Calculate R-squared (R²)\n",
    "r² = r^2"
   ]
  },
  {
   "cell_type": "code",
   "execution_count": 6,
   "id": "e41627be-b03e-4fb7-9744-c43cba5edcce",
   "metadata": {},
   "outputs": [
    {
     "data": {
      "text/plain": [
       "-61.0"
      ]
     },
     "execution_count": 6,
     "metadata": {},
     "output_type": "execute_result"
    }
   ],
   "source": [
    "# Calculate slope (m) and intercept (b)\n",
    "mᵣ = ∑((xᵢ .- x̄) .* (yᵢ .- ȳ)) / ∑((xᵢ .- x̄).^2)\n",
    "bᵣ = ȳ - mᵣ * x̄"
   ]
  },
  {
   "cell_type": "code",
   "execution_count": 7,
   "id": "a8b522ee-50cc-4797-8972-262042f04286",
   "metadata": {},
   "outputs": [
    {
     "data": {
      "text/plain": [
       "13-element Vector{Float64}:\n",
       "  66.0\n",
       "  33.0\n",
       "   6.0\n",
       " -15.0\n",
       " -30.0\n",
       " -39.0\n",
       " -42.0\n",
       " -39.0\n",
       " -30.0\n",
       " -15.0\n",
       "   6.0\n",
       "  33.0\n",
       "  66.0"
      ]
     },
     "execution_count": 7,
     "metadata": {},
     "output_type": "execute_result"
    }
   ],
   "source": [
    "# Create regression line\n",
    "ŷᵢ = mᵣ .* xᵢ .+ bᵣ\n",
    "ϵᵢ = yᵢ .- ŷᵢ"
   ]
  },
  {
   "cell_type": "code",
   "execution_count": 8,
   "id": "bcfcf03b-9572-4651-aea0-e941a91b83ef",
   "metadata": {},
   "outputs": [
    {
     "data": {
      "text/plain": [
       "13.333333333333334"
      ]
     },
     "execution_count": 8,
     "metadata": {},
     "output_type": "execute_result"
    }
   ],
   "source": [
    "# Calculate sum of squared residuals\n",
    "∑ϵ² = ∑(ϵᵢ .^ 2)\n",
    "\n",
    "# Calculate degrees of freedom\n",
    "df = n - 2\n",
    "\n",
    "# Calculate variance of residuals (MSE)\n",
    "MSE = ∑ϵ² / df\n",
    "\n",
    "# Calculate standard error of the slope\n",
    "SE_β₁ = √(MSE / ∑((xᵢ .- x̄).^2))\n",
    "\n",
    "# Calculate t-value\n",
    "tᵥ = mᵣ / SE_β₁"
   ]
  },
  {
   "cell_type": "code",
   "execution_count": 9,
   "id": "a1d07ea9-02c2-4d82-9986-d8699f99f218",
   "metadata": {},
   "outputs": [
    {
     "name": "stdout",
     "output_type": "stream",
     "text": [
      "n          =   13\n",
      "∑x (total) =   78.00\n",
      "∑y (total) = 2327.00\n",
      "x̄ (mean)   =    6.00\n",
      "ȳ (mean)   =  179.00\n",
      "\n"
     ]
    }
   ],
   "source": [
    "# Output of basic properties\n",
    "@printf(\"%-10s = %4d\\n\", \"n\", n)\n",
    "@printf(\"∑x (total) = %7.2f\\n\", ∑x)\n",
    "@printf(\"∑y (total) = %7.2f\\n\", ∑y)\n",
    "@printf(\"x̄ (mean)   = %7.2f\\n\", x̄)\n",
    "@printf(\"ȳ (mean)   = %7.2f\\n\\n\", ȳ)"
   ]
  },
  {
   "cell_type": "code",
   "execution_count": 10,
   "id": "5392d43a-ccee-4e04-8c7a-3330392c5a13",
   "metadata": {},
   "outputs": [
    {
     "name": "stdout",
     "output_type": "stream",
     "text": [
      "sₓ² (variance) =     15.17\n",
      "sʸ² (variance) =  25768.17\n",
      "covariance     =    606.67\n",
      "sₓ (std dev)   =      3.89\n",
      "sʸ (std dev)   =    160.52\n",
      "r (pearson)    =      0.97\n",
      "R²             =      0.94\n",
      "\n"
     ]
    }
   ],
   "source": [
    "# Output of correlation calculation\n",
    "@printf(\"sₓ² (variance) = %9.2f\\n\", sₓ²)\n",
    "@printf(\"sʸ² (variance) = %9.2f\\n\", sʸ²)\n",
    "@printf(\"covariance     = %9.2f\\n\", cov)\n",
    "@printf(\"sₓ (std dev)   = %9.2f\\n\", sₓ)\n",
    "@printf(\"sʸ (std dev)   = %9.2f\\n\", sʸ)\n",
    "@printf(\"r (pearson)    = %9.2f\\n\", r)\n",
    "@printf(\"R²             = %9.2f\\n\\n\", r²)"
   ]
  },
  {
   "cell_type": "code",
   "execution_count": 11,
   "id": "99b528dc-aa3e-4028-9765-a3fef17f89d6",
   "metadata": {},
   "outputs": [
    {
     "name": "stdout",
     "output_type": "stream",
     "text": [
      "m (slope)      =     40.00\n",
      "b (intercept)  =    -61.00\n",
      "\n",
      "Equation     y = -61.00 + 40.00.x\n",
      "\n"
     ]
    }
   ],
   "source": [
    "# Output of regression coefficient\n",
    "@printf(\"m (slope)      = %9.2f\\n\", mᵣ)\n",
    "@printf(\"b (intercept)  = %9.2f\\n\\n\", bᵣ)\n",
    "@printf(\"Equation     y = %.2f + %.2f.x\\n\\n\", bᵣ, mᵣ)"
   ]
  },
  {
   "cell_type": "code",
   "execution_count": 12,
   "id": "6c9942eb-d3b9-442e-9aed-e4a1f9c51eb2",
   "metadata": {},
   "outputs": [
    {
     "name": "stdout",
     "output_type": "stream",
     "text": [
      "SSR = ∑ϵ²           =  18018.00\n",
      "MSE = ∑ϵ²/(n-2)     =   1638.00\n",
      "SE(β₁)  = √(MSE/sₓ) =      3.00\n",
      "t-value = β̅₁/SE(β₁) =     13.33\n",
      "\n"
     ]
    }
   ],
   "source": [
    "# Output the results\n",
    "@printf(\"SSR = ∑ϵ²           = %9.2f\\n\", ∑ϵ²)\n",
    "@printf(\"MSE = ∑ϵ²/(n-2)     = %9.2f\\n\", MSE)\n",
    "@printf(\"SE(β₁)  = √(MSE/sₓ) = %9.2f\\n\", SE_β₁)\n",
    "@printf(\"t-value = β̅₁/SE(β₁) = %9.2f\\n\\n\", tᵥ)"
   ]
  },
  {
   "cell_type": "code",
   "execution_count": null,
   "id": "a5112422-0f4a-4017-aeb6-0586cad80e8c",
   "metadata": {},
   "outputs": [],
   "source": []
  }
 ],
 "metadata": {
  "kernelspec": {
   "display_name": "Julia 1.10.2",
   "language": "julia",
   "name": "julia-1.10"
  },
  "language_info": {
   "file_extension": ".jl",
   "mimetype": "application/julia",
   "name": "julia",
   "version": "1.10.2"
  }
 },
 "nbformat": 4,
 "nbformat_minor": 5
}
