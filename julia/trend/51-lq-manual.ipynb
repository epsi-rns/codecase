{
 "cells": [
  {
   "cell_type": "code",
   "execution_count": 1,
   "id": "9aaa0072-4998-4911-8371-ee90e7c63d91",
   "metadata": {},
   "outputs": [],
   "source": [
    "using CSV, DataFrames, Printf, Statistics"
   ]
  },
  {
   "cell_type": "code",
   "execution_count": 2,
   "id": "338fe050-2177-406c-b1d5-274cc22c9bef",
   "metadata": {},
   "outputs": [
    {
     "data": {
      "text/plain": [
       "13-element Vector{Int64}:\n",
       "   5\n",
       "  12\n",
       "  25\n",
       "  44\n",
       "  69\n",
       " 100\n",
       " 137\n",
       " 180\n",
       " 229\n",
       " 284\n",
       " 345\n",
       " 412\n",
       " 485"
      ]
     },
     "execution_count": 2,
     "metadata": {},
     "output_type": "execute_result"
    }
   ],
   "source": [
    "# Read data from CSV file\n",
    "pairCSV = CSV.read(\"50-samples.csv\", DataFrame)\n",
    "\n",
    "# Extract x and y values from CSV data\n",
    "x_observed = pairCSV.x\n",
    "y_observed = pairCSV.y"
   ]
  },
  {
   "cell_type": "code",
   "execution_count": 3,
   "id": "50e84994-8a2c-482c-a2f5-aba491d35bf6",
   "metadata": {},
   "outputs": [
    {
     "name": "stdout",
     "output_type": "stream",
     "text": [
      "n          =   13\n",
      "∑x (total) =   78.00\n",
      "∑y (total) = 2327.00\n",
      "x̄ (mean)   =    6.00\n",
      "ȳ (mean)   =  179.00\n",
      "\n"
     ]
    }
   ],
   "source": [
    "# Number of data points\n",
    "n = length(x_observed)\n",
    "\n",
    "# Calculate sums\n",
    "x_sum = sum(x_observed)\n",
    "y_sum = sum(y_observed)\n",
    "\n",
    "# Calculate means\n",
    "x_mean = mean(x_observed)\n",
    "y_mean = mean(y_observed)\n",
    "\n",
    "# Output of basic properties\n",
    "@printf(\"%-10s = %4d\\n\", \"n\", n)\n",
    "@printf(\"∑x (total) = %7.2f\\n\", x_sum)\n",
    "@printf(\"∑y (total) = %7.2f\\n\", y_sum)\n",
    "@printf(\"x̄ (mean)   = %7.2f\\n\", x_mean)\n",
    "@printf(\"ȳ (mean)   = %7.2f\\n\\n\", y_mean)"
   ]
  },
  {
   "cell_type": "code",
   "execution_count": 4,
   "id": "23c69f30-1945-4522-9176-080d35381a69",
   "metadata": {},
   "outputs": [
    {
     "name": "stdout",
     "output_type": "stream",
     "text": [
      "∑(xᵢ-x̄)    =      0.00\n",
      "∑(yᵢ-ȳ)    =      0.00\n",
      "∑(xᵢ-x̄)²   =    182.00\n",
      "∑(yᵢ-ȳ)²   = 309218.00\n",
      "∑(xᵢ-x̄)(yᵢ-ȳ)  =   7280.00\n"
     ]
    }
   ],
   "source": [
    "# Calculate deviations\n",
    "x_deviation = x_observed .- x_mean\n",
    "y_deviation = y_observed .- y_mean\n",
    "\n",
    "# Calculate squared deviations\n",
    "x_sq_deviation = sum(x_deviation .^ 2)\n",
    "y_sq_deviation = sum(y_deviation .^ 2)\n",
    "\n",
    "# Calculate cross-deviation\n",
    "xy_cross_deviation = sum(x_deviation .* y_deviation)\n",
    "\n",
    "# Output of least square calculation\n",
    "@printf(\"∑(xᵢ-x̄)    = %9.2f\\n\", sum(x_deviation))\n",
    "@printf(\"∑(yᵢ-ȳ)    = %9.2f\\n\", sum(y_deviation))\n",
    "@printf(\"∑(xᵢ-x̄)²   = %9.2f\\n\", x_sq_deviation)\n",
    "@printf(\"∑(yᵢ-ȳ)²   = %9.2f\\n\", y_sq_deviation)\n",
    "@printf(\"∑(xᵢ-x̄)(yᵢ-ȳ)  = %9.2f\\n\", xy_cross_deviation)"
   ]
  },
  {
   "cell_type": "code",
   "execution_count": 5,
   "id": "39ec7660-8289-4792-ad71-02176a847d8b",
   "metadata": {},
   "outputs": [
    {
     "name": "stdout",
     "output_type": "stream",
     "text": [
      "m (slope)      =     40.00\n",
      "b (intercept)  =    -61.00\n",
      "\n",
      "Equation     y = -61.00 + 40.00.x\n",
      "\n"
     ]
    }
   ],
   "source": [
    "# Calculate slope (m) and intercept (b)\n",
    "m_slope = xy_cross_deviation / x_sq_deviation\n",
    "b_intercept = y_mean - m_slope * x_mean\n",
    "\n",
    "@printf(\"m (slope)      = %9.2f\\n\", m_slope)\n",
    "@printf(\"b (intercept)  = %9.2f\\n\\n\", b_intercept)\n",
    "@printf(\"Equation     y = %.2f + %.2f.x\\n\\n\", b_intercept, m_slope)"
   ]
  },
  {
   "cell_type": "code",
   "execution_count": 6,
   "id": "58f60af7-d778-4d29-ad85-8eecd6775776",
   "metadata": {},
   "outputs": [
    {
     "name": "stdout",
     "output_type": "stream",
     "text": [
      "sₓ² (variance) =     15.17\n",
      "sy² (variance) =  25768.17\n",
      "covariance     =    606.67\n",
      "sₓ (std dev)   =      3.89\n",
      "sy (std dev)   =    160.52\n",
      "r (pearson)    =      0.97\n",
      "R²             =      0.94\n",
      "\n"
     ]
    }
   ],
   "source": [
    "# Calculate variance\n",
    "x_variance = x_sq_deviation / (n-1)\n",
    "y_variance = y_sq_deviation / (n-1)\n",
    "\n",
    "# Calculate covariance\n",
    "xy_covariance = xy_cross_deviation / (n-1)\n",
    "\n",
    "# Calculate standard deviations\n",
    "x_std_dev = sqrt(x_variance)\n",
    "y_std_dev = sqrt(y_variance)\n",
    "\n",
    "# Calculate Pearson correlation coefficient (r)\n",
    "r = xy_covariance / (x_std_dev * y_std_dev)\n",
    "\n",
    "# Calculate R-squared (R²)\n",
    "r_squared = r^2\n",
    "\n",
    "# Output of correlation calculation\n",
    "@printf(\"sₓ² (variance) = %9.2f\\n\", x_variance)\n",
    "@printf(\"sy² (variance) = %9.2f\\n\", y_variance)\n",
    "@printf(\"covariance     = %9.2f\\n\", xy_covariance)\n",
    "@printf(\"sₓ (std dev)   = %9.2f\\n\", x_std_dev)\n",
    "@printf(\"sy (std dev)   = %9.2f\\n\", y_std_dev)\n",
    "@printf(\"r (pearson)    = %9.2f\\n\", r)\n",
    "@printf(\"R²             = %9.2f\\n\\n\", r_squared)"
   ]
  },
  {
   "cell_type": "code",
   "execution_count": 7,
   "id": "c1af5426-52e8-4c75-80c1-cd5ff75f4749",
   "metadata": {},
   "outputs": [
    {
     "name": "stdout",
     "output_type": "stream",
     "text": [
      "SSR = ∑ϵ²           =  18018.00\n",
      "MSE = ∑ϵ²/(n-2)     =   1638.00\n",
      "SE(β₁)  = √(MSE/sₓ) =      3.00\n",
      "t-value = β̅₁/SE(β₁) =     13.33\n",
      "\n"
     ]
    }
   ],
   "source": [
    "# Create regression line\n",
    "y_fit = m_slope .* x_observed .+ b_intercept\n",
    "y_err = y_observed .- y_fit\n",
    "\n",
    "# Calculate sum of squared residuals\n",
    "ss_residuals = sum(y_err .^ 2)\n",
    "\n",
    "# Calculate degrees of freedom\n",
    "df = n - 2\n",
    "\n",
    "# Calculate variance of residuals (MSE)\n",
    "var_residuals = ss_residuals / df\n",
    "\n",
    "# Calculate standard error of the slope\n",
    "std_err_slope = sqrt(var_residuals / x_sq_deviation)\n",
    "\n",
    "# Calculate t-value\n",
    "t_value = m_slope / std_err_slope\n",
    "\n",
    "# Output the results\n",
    "@printf(\"SSR = ∑ϵ²           = %9.2f\\n\", ss_residuals)\n",
    "@printf(\"MSE = ∑ϵ²/(n-2)     = %9.2f\\n\", var_residuals)\n",
    "@printf(\"SE(β₁)  = √(MSE/sₓ) = %9.2f\\n\", std_err_slope)\n",
    "@printf(\"t-value = β̅₁/SE(β₁) = %9.2f\\n\\n\", t_value)"
   ]
  },
  {
   "cell_type": "code",
   "execution_count": null,
   "id": "3cec7d6b-f0a2-444a-9a2e-f559ec70ef94",
   "metadata": {},
   "outputs": [],
   "source": []
  }
 ],
 "metadata": {
  "kernelspec": {
   "display_name": "Julia 1.10.2",
   "language": "julia",
   "name": "julia-1.10"
  },
  "language_info": {
   "file_extension": ".jl",
   "mimetype": "application/julia",
   "name": "julia",
   "version": "1.10.2"
  }
 },
 "nbformat": 4,
 "nbformat_minor": 5
}
