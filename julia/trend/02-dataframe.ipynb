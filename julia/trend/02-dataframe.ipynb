{
 "cells": [
  {
   "cell_type": "code",
   "execution_count": 1,
   "id": "f87c61cd-6aed-4a54-a8da-ea0d3d69b997",
   "metadata": {},
   "outputs": [
    {
     "data": {
      "text/html": [
       "<div><div style = \"float: left;\"><span>13×4 DataFrame</span></div><div style = \"clear: both;\"></div></div><div class = \"data-frame\" style = \"overflow-x: scroll;\"><table class = \"data-frame\" style = \"margin-bottom: 6px;\"><thead><tr class = \"header\"><th class = \"rowNumber\" style = \"font-weight: bold; text-align: right;\">Row</th><th style = \"text-align: left;\">xs</th><th style = \"text-align: left;\">ys1</th><th style = \"text-align: left;\">ys2</th><th style = \"text-align: left;\">ys3</th></tr><tr class = \"subheader headerLastRow\"><th class = \"rowNumber\" style = \"font-weight: bold; text-align: right;\"></th><th title = \"Int64\" style = \"text-align: left;\">Int64</th><th title = \"Int64\" style = \"text-align: left;\">Int64</th><th title = \"Int64\" style = \"text-align: left;\">Int64</th><th title = \"Int64\" style = \"text-align: left;\">Int64</th></tr></thead><tbody><tr><td class = \"rowNumber\" style = \"font-weight: bold; text-align: right;\">1</td><td style = \"text-align: right;\">0</td><td style = \"text-align: right;\">5</td><td style = \"text-align: right;\">5</td><td style = \"text-align: right;\">5</td></tr><tr><td class = \"rowNumber\" style = \"font-weight: bold; text-align: right;\">2</td><td style = \"text-align: right;\">1</td><td style = \"text-align: right;\">9</td><td style = \"text-align: right;\">12</td><td style = \"text-align: right;\">14</td></tr><tr><td class = \"rowNumber\" style = \"font-weight: bold; text-align: right;\">3</td><td style = \"text-align: right;\">2</td><td style = \"text-align: right;\">13</td><td style = \"text-align: right;\">25</td><td style = \"text-align: right;\">41</td></tr><tr><td class = \"rowNumber\" style = \"font-weight: bold; text-align: right;\">4</td><td style = \"text-align: right;\">3</td><td style = \"text-align: right;\">17</td><td style = \"text-align: right;\">44</td><td style = \"text-align: right;\">98</td></tr><tr><td class = \"rowNumber\" style = \"font-weight: bold; text-align: right;\">5</td><td style = \"text-align: right;\">4</td><td style = \"text-align: right;\">21</td><td style = \"text-align: right;\">69</td><td style = \"text-align: right;\">197</td></tr><tr><td class = \"rowNumber\" style = \"font-weight: bold; text-align: right;\">6</td><td style = \"text-align: right;\">5</td><td style = \"text-align: right;\">25</td><td style = \"text-align: right;\">100</td><td style = \"text-align: right;\">350</td></tr><tr><td class = \"rowNumber\" style = \"font-weight: bold; text-align: right;\">7</td><td style = \"text-align: right;\">6</td><td style = \"text-align: right;\">29</td><td style = \"text-align: right;\">137</td><td style = \"text-align: right;\">569</td></tr><tr><td class = \"rowNumber\" style = \"font-weight: bold; text-align: right;\">8</td><td style = \"text-align: right;\">7</td><td style = \"text-align: right;\">33</td><td style = \"text-align: right;\">180</td><td style = \"text-align: right;\">866</td></tr><tr><td class = \"rowNumber\" style = \"font-weight: bold; text-align: right;\">9</td><td style = \"text-align: right;\">8</td><td style = \"text-align: right;\">37</td><td style = \"text-align: right;\">229</td><td style = \"text-align: right;\">1253</td></tr><tr><td class = \"rowNumber\" style = \"font-weight: bold; text-align: right;\">10</td><td style = \"text-align: right;\">9</td><td style = \"text-align: right;\">41</td><td style = \"text-align: right;\">284</td><td style = \"text-align: right;\">1742</td></tr><tr><td class = \"rowNumber\" style = \"font-weight: bold; text-align: right;\">11</td><td style = \"text-align: right;\">10</td><td style = \"text-align: right;\">45</td><td style = \"text-align: right;\">345</td><td style = \"text-align: right;\">2345</td></tr><tr><td class = \"rowNumber\" style = \"font-weight: bold; text-align: right;\">12</td><td style = \"text-align: right;\">11</td><td style = \"text-align: right;\">49</td><td style = \"text-align: right;\">412</td><td style = \"text-align: right;\">3074</td></tr><tr><td class = \"rowNumber\" style = \"font-weight: bold; text-align: right;\">13</td><td style = \"text-align: right;\">12</td><td style = \"text-align: right;\">53</td><td style = \"text-align: right;\">485</td><td style = \"text-align: right;\">3941</td></tr></tbody></table></div>"
      ],
      "text/latex": [
       "\\begin{tabular}{r|cccc}\n",
       "\t& xs & ys1 & ys2 & ys3\\\\\n",
       "\t\\hline\n",
       "\t& Int64 & Int64 & Int64 & Int64\\\\\n",
       "\t\\hline\n",
       "\t1 & 0 & 5 & 5 & 5 \\\\\n",
       "\t2 & 1 & 9 & 12 & 14 \\\\\n",
       "\t3 & 2 & 13 & 25 & 41 \\\\\n",
       "\t4 & 3 & 17 & 44 & 98 \\\\\n",
       "\t5 & 4 & 21 & 69 & 197 \\\\\n",
       "\t6 & 5 & 25 & 100 & 350 \\\\\n",
       "\t7 & 6 & 29 & 137 & 569 \\\\\n",
       "\t8 & 7 & 33 & 180 & 866 \\\\\n",
       "\t9 & 8 & 37 & 229 & 1253 \\\\\n",
       "\t10 & 9 & 41 & 284 & 1742 \\\\\n",
       "\t11 & 10 & 45 & 345 & 2345 \\\\\n",
       "\t12 & 11 & 49 & 412 & 3074 \\\\\n",
       "\t13 & 12 & 53 & 485 & 3941 \\\\\n",
       "\\end{tabular}\n"
      ],
      "text/plain": [
       "\u001b[1m13×4 DataFrame\u001b[0m\n",
       "\u001b[1m Row \u001b[0m│\u001b[1m xs    \u001b[0m\u001b[1m ys1   \u001b[0m\u001b[1m ys2   \u001b[0m\u001b[1m ys3   \u001b[0m\n",
       "     │\u001b[90m Int64 \u001b[0m\u001b[90m Int64 \u001b[0m\u001b[90m Int64 \u001b[0m\u001b[90m Int64 \u001b[0m\n",
       "─────┼────────────────────────────\n",
       "   1 │     0      5      5      5\n",
       "   2 │     1      9     12     14\n",
       "   3 │     2     13     25     41\n",
       "   4 │     3     17     44     98\n",
       "   5 │     4     21     69    197\n",
       "   6 │     5     25    100    350\n",
       "   7 │     6     29    137    569\n",
       "   8 │     7     33    180    866\n",
       "   9 │     8     37    229   1253\n",
       "  10 │     9     41    284   1742\n",
       "  11 │    10     45    345   2345\n",
       "  12 │    11     49    412   3074\n",
       "  13 │    12     53    485   3941"
      ]
     },
     "execution_count": 1,
     "metadata": {},
     "output_type": "execute_result"
    }
   ],
   "source": [
    "using CSV, DataFrames\n",
    "\n",
    "# Read data from CSV file\n",
    "# Strip spaces from column names\n",
    "df = CSV.read(\"series.csv\", DataFrame)\n",
    "rename!(df, Symbol.(strip.(string.(names(df)))))"
   ]
  },
  {
   "cell_type": "code",
   "execution_count": 5,
   "id": "fde4bb9e-8dfa-4e2d-98c3-6193d81c309b",
   "metadata": {},
   "outputs": [
    {
     "data": {
      "text/plain": [
       "4-element Vector{String}:\n",
       " \"xs\"\n",
       " \"ys1\"\n",
       " \"ys2\"\n",
       " \"ys3\""
      ]
     },
     "execution_count": 5,
     "metadata": {},
     "output_type": "execute_result"
    }
   ],
   "source": [
    "names(df)"
   ]
  },
  {
   "cell_type": "code",
   "execution_count": 6,
   "id": "94896f80-b2c6-498e-bfa1-d7115ce54f2d",
   "metadata": {},
   "outputs": [
    {
     "data": {
      "text/html": [
       "<div><div style = \"float: left;\"><span>5×4 DataFrame</span></div><div style = \"clear: both;\"></div></div><div class = \"data-frame\" style = \"overflow-x: scroll;\"><table class = \"data-frame\" style = \"margin-bottom: 6px;\"><thead><tr class = \"header\"><th class = \"rowNumber\" style = \"font-weight: bold; text-align: right;\">Row</th><th style = \"text-align: left;\">xs</th><th style = \"text-align: left;\">ys1</th><th style = \"text-align: left;\">ys2</th><th style = \"text-align: left;\">ys3</th></tr><tr class = \"subheader headerLastRow\"><th class = \"rowNumber\" style = \"font-weight: bold; text-align: right;\"></th><th title = \"Int64\" style = \"text-align: left;\">Int64</th><th title = \"Int64\" style = \"text-align: left;\">Int64</th><th title = \"Int64\" style = \"text-align: left;\">Int64</th><th title = \"Int64\" style = \"text-align: left;\">Int64</th></tr></thead><tbody><tr><td class = \"rowNumber\" style = \"font-weight: bold; text-align: right;\">1</td><td style = \"text-align: right;\">8</td><td style = \"text-align: right;\">37</td><td style = \"text-align: right;\">229</td><td style = \"text-align: right;\">1253</td></tr><tr><td class = \"rowNumber\" style = \"font-weight: bold; text-align: right;\">2</td><td style = \"text-align: right;\">9</td><td style = \"text-align: right;\">41</td><td style = \"text-align: right;\">284</td><td style = \"text-align: right;\">1742</td></tr><tr><td class = \"rowNumber\" style = \"font-weight: bold; text-align: right;\">3</td><td style = \"text-align: right;\">10</td><td style = \"text-align: right;\">45</td><td style = \"text-align: right;\">345</td><td style = \"text-align: right;\">2345</td></tr><tr><td class = \"rowNumber\" style = \"font-weight: bold; text-align: right;\">4</td><td style = \"text-align: right;\">11</td><td style = \"text-align: right;\">49</td><td style = \"text-align: right;\">412</td><td style = \"text-align: right;\">3074</td></tr><tr><td class = \"rowNumber\" style = \"font-weight: bold; text-align: right;\">5</td><td style = \"text-align: right;\">12</td><td style = \"text-align: right;\">53</td><td style = \"text-align: right;\">485</td><td style = \"text-align: right;\">3941</td></tr></tbody></table></div>"
      ],
      "text/latex": [
       "\\begin{tabular}{r|cccc}\n",
       "\t& xs & ys1 & ys2 & ys3\\\\\n",
       "\t\\hline\n",
       "\t& Int64 & Int64 & Int64 & Int64\\\\\n",
       "\t\\hline\n",
       "\t1 & 8 & 37 & 229 & 1253 \\\\\n",
       "\t2 & 9 & 41 & 284 & 1742 \\\\\n",
       "\t3 & 10 & 45 & 345 & 2345 \\\\\n",
       "\t4 & 11 & 49 & 412 & 3074 \\\\\n",
       "\t5 & 12 & 53 & 485 & 3941 \\\\\n",
       "\\end{tabular}\n"
      ],
      "text/plain": [
       "\u001b[1m5×4 DataFrame\u001b[0m\n",
       "\u001b[1m Row \u001b[0m│\u001b[1m xs    \u001b[0m\u001b[1m ys1   \u001b[0m\u001b[1m ys2   \u001b[0m\u001b[1m ys3   \u001b[0m\n",
       "     │\u001b[90m Int64 \u001b[0m\u001b[90m Int64 \u001b[0m\u001b[90m Int64 \u001b[0m\u001b[90m Int64 \u001b[0m\n",
       "─────┼────────────────────────────\n",
       "   1 │     8     37    229   1253\n",
       "   2 │     9     41    284   1742\n",
       "   3 │    10     45    345   2345\n",
       "   4 │    11     49    412   3074\n",
       "   5 │    12     53    485   3941"
      ]
     },
     "execution_count": 6,
     "metadata": {},
     "output_type": "execute_result"
    }
   ],
   "source": [
    "last(df,5)"
   ]
  }
 ],
 "metadata": {
  "kernelspec": {
   "display_name": "Julia 1.10.2",
   "language": "julia",
   "name": "julia-1.10"
  },
  "language_info": {
   "file_extension": ".jl",
   "mimetype": "application/julia",
   "name": "julia",
   "version": "1.10.2"
  }
 },
 "nbformat": 4,
 "nbformat_minor": 5
}
