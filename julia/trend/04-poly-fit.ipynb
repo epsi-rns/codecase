{
 "cells": [
  {
   "cell_type": "code",
   "execution_count": 1,
   "id": "b8f3ac89-224b-4453-aff1-13282f58be54",
   "metadata": {},
   "outputs": [
    {
     "data": {
      "text/plain": [
       "13-element Vector{Int64}:\n",
       "    5\n",
       "   14\n",
       "   41\n",
       "   98\n",
       "  197\n",
       "  350\n",
       "  569\n",
       "  866\n",
       " 1253\n",
       " 1742\n",
       " 2345\n",
       " 3074\n",
       " 3941"
      ]
     },
     "execution_count": 1,
     "metadata": {},
     "output_type": "execute_result"
    }
   ],
   "source": [
    "using CSV, DataFrames, Polynomials, Printf\n",
    "\n",
    "# Read data from CSV file\n",
    "# Strip spaces from column names\n",
    "df = CSV.read(\"series.csv\", DataFrame)\n",
    "rename!(df, Symbol.(strip.(string.(names(df)))))\n",
    "\n",
    "# Extract columns from DataFrame\n",
    "x_values = df.xs\n",
    "y_values1 = df.ys1\n",
    "y_values2 = df.ys2\n",
    "y_values3 = df.ys3"
   ]
  },
  {
   "cell_type": "code",
   "execution_count": 2,
   "id": "6f44862c-0f6c-45d3-a722-a1a3197f8b6b",
   "metadata": {},
   "outputs": [
    {
     "name": "stdout",
     "output_type": "stream",
     "text": [
      "Coefficients (a, b) for ys1:\n",
      "[4.0, 5.0]\n",
      "\n"
     ]
    }
   ],
   "source": [
    "# Perform linear regression for ys1\n",
    "pf_1 = fit(x_values, y_values1, 1)\n",
    "\n",
    "coeffs_r1 = reverse(coeffs(pf_1))\n",
    "coeffs_fmt_1 = [\n",
    "  round(c, digits=2) for c in coeffs_r1]\n",
    "\n",
    "println(\"Coefficients (a, b) for ys1:\")\n",
    "println(coeffs_fmt_1, \"\\n\")"
   ]
  },
  {
   "cell_type": "code",
   "execution_count": 3,
   "id": "f79dcc58-68d9-4a66-b1a9-9a71c6d0c270",
   "metadata": {},
   "outputs": [
    {
     "name": "stdout",
     "output_type": "stream",
     "text": [
      "Coefficients (a, b, c) for ys2:\n",
      "[3.0, 4.0, 5.0]\n",
      "\n"
     ]
    }
   ],
   "source": [
    "# Perform quadratic curve fitting for ys2\n",
    "pf_2 = fit(x_values, y_values2, 2)\n",
    "\n",
    "coeffs_r2 = reverse(coeffs(pf_2))\n",
    "coeffs_fmt_2 = [\n",
    "  round(c, digits=2) for c in coeffs_r2]\n",
    "\n",
    "println(\"Coefficients (a, b, c) for ys2:\")\n",
    "println(coeffs_fmt_2, \"\\n\")"
   ]
  },
  {
   "cell_type": "code",
   "execution_count": 4,
   "id": "17722c5c-5308-416e-a76e-3754b2e13421",
   "metadata": {},
   "outputs": [
    {
     "name": "stdout",
     "output_type": "stream",
     "text": [
      "Coefficients (a, b, c, d) for ys3:\n",
      "[2.0, 3.0, 4.0, 5.0]\n",
      "\n"
     ]
    }
   ],
   "source": [
    "# Perform cubic curve fitting for ys3\n",
    "pf_3 = fit(x_values, y_values3, 3)\n",
    "\n",
    "coeffs_r3 = reverse(coeffs(pf_3))\n",
    "coeffs_fmt_3 = [\n",
    "  round(c, digits=2) for c in coeffs_r3]\n",
    "\n",
    "println(\"Coefficients (a, b, c, d) for ys3:\")\n",
    "println(coeffs_fmt_3, \"\\n\")"
   ]
  },
  {
   "cell_type": "code",
   "execution_count": null,
   "id": "de34b3ac-a0e6-4240-9678-9d7d6cc1788f",
   "metadata": {},
   "outputs": [],
   "source": []
  }
 ],
 "metadata": {
  "kernelspec": {
   "display_name": "Julia 1.10.2",
   "language": "julia",
   "name": "julia-1.10"
  },
  "language_info": {
   "file_extension": ".jl",
   "mimetype": "application/julia",
   "name": "julia",
   "version": "1.10.2"
  }
 },
 "nbformat": 4,
 "nbformat_minor": 5
}
