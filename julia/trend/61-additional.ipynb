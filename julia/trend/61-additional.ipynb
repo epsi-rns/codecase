{
 "cells": [
  {
   "cell_type": "code",
   "execution_count": 1,
   "id": "d1fcd1e9-114a-4fa8-9e6a-cd74e911c2fd",
   "metadata": {},
   "outputs": [],
   "source": [
    "using CSV, DataFrames, Statistics, Printf, Distributions"
   ]
  },
  {
   "cell_type": "code",
   "execution_count": 2,
   "id": "a016619d-3feb-4059-8e39-a264a50538fd",
   "metadata": {},
   "outputs": [
    {
     "data": {
      "text/plain": [
       "13-element Vector{Int64}:\n",
       "   5\n",
       "  12\n",
       "  25\n",
       "  44\n",
       "  69\n",
       " 100\n",
       " 137\n",
       " 180\n",
       " 229\n",
       " 284\n",
       " 345\n",
       " 412\n",
       " 485"
      ]
     },
     "execution_count": 2,
     "metadata": {},
     "output_type": "execute_result"
    }
   ],
   "source": [
    "# Read CSV file\n",
    "pairCSV = CSV.read(\"50-samples.csv\", DataFrame)\n",
    "\n",
    "# Extract x and y values from CSV data\n",
    "x_observed = pairCSV.x\n",
    "y_observed = pairCSV.y"
   ]
  },
  {
   "cell_type": "code",
   "execution_count": 3,
   "id": "38d9cd21-1e95-448b-8e22-8ea3e96c404b",
   "metadata": {},
   "outputs": [
    {
     "name": "stdout",
     "output_type": "stream",
     "text": [
      "x (max, min, range) = (   0.00,   12.00,   12.00)\n",
      "y (max, min, range) = (   5.00,  485.00,  480.00)\n",
      "\n"
     ]
    }
   ],
   "source": [
    "# Number of data points\n",
    "n = length(x_observed)\n",
    "\n",
    "# Calculate maximum, minimum, and range\n",
    "x_max = maximum(x_observed)\n",
    "x_min = minimum(x_observed)\n",
    "x_range = x_max - x_min\n",
    "\n",
    "y_max = maximum(y_observed)\n",
    "y_min = minimum(y_observed)\n",
    "y_range = y_max - y_min\n",
    "\n",
    "# Output of maximum, minimum, and range\n",
    "@printf(\"x (max, min, range) = (%7.2f, %7.2f, %7.2f)\\n\",\n",
    "  x_min, x_max, x_range)\n",
    "@printf(\"y (max, min, range) = (%7.2f, %7.2f, %7.2f)\\n\\n\",\n",
    "  y_min, y_max, y_range)"
   ]
  },
  {
   "cell_type": "code",
   "execution_count": 4,
   "id": "bbf3b1d1-5542-478e-b212-62c33a99da1a",
   "metadata": {},
   "outputs": [
    {
     "name": "stdout",
     "output_type": "stream",
     "text": [
      "x median         =      6.00\n",
      "y median         =    137.00\n",
      "x mode           =      0.00\n",
      "y mode           =      5.00\n",
      "\n"
     ]
    }
   ],
   "source": [
    "# Calculate median\n",
    "x_median = median(x_observed)\n",
    "y_median = median(y_observed)\n",
    "\n",
    "# Calculate mode\n",
    "x_mode = mode(x_observed)\n",
    "y_mode = mode(y_observed)\n",
    "\n",
    "# Output of additional properties\n",
    "@printf(\"x median         = %9.2f\\n\", x_median)\n",
    "@printf(\"y median         = %9.2f\\n\", y_median)\n",
    "@printf(\"x mode           = %9.2f\\n\", x_mode)\n",
    "@printf(\"y mode           = %9.2f\\n\\n\", y_mode)"
   ]
  },
  {
   "cell_type": "code",
   "execution_count": null,
   "id": "a088c4d1-3398-4f56-ba27-388ec213562f",
   "metadata": {},
   "outputs": [],
   "source": []
  }
 ],
 "metadata": {
  "kernelspec": {
   "display_name": "Julia 1.10.2",
   "language": "julia",
   "name": "julia-1.10"
  },
  "language_info": {
   "file_extension": ".jl",
   "mimetype": "application/julia",
   "name": "julia",
   "version": "1.10.2"
  }
 },
 "nbformat": 4,
 "nbformat_minor": 5
}
