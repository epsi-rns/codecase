{
 "cells": [
  {
   "cell_type": "code",
   "execution_count": 2,
   "id": "0a589c9b-c76d-4282-98b3-2d1b281fe107",
   "metadata": {},
   "outputs": [],
   "source": [
    "using CSV, DataFrames, Polynomials, Printf"
   ]
  },
  {
   "cell_type": "code",
   "execution_count": 3,
   "id": "ade773a0-2ee4-400d-bc99-c5ddb2b5d30f",
   "metadata": {},
   "outputs": [
    {
     "data": {
      "text/plain": [
       "calc_coeff (generic function with 1 method)"
      ]
     },
     "execution_count": 3,
     "metadata": {},
     "output_type": "execute_result"
    }
   ],
   "source": [
    "function calc_coeff(df::DataFrame,\n",
    "    x_col::Symbol, y_col::Symbol, order::Int)\n",
    "\n",
    "  # Extract x and y values\n",
    "  xs = df[!, x_col]\n",
    "  ys = df[!, y_col]\n",
    "\n",
    "  order_text = Dict(1 => \"Linear\",\n",
    "    2 => \"Quadratic\", 3 => \"Cubic\")\n",
    "  coeff_text = Dict(1 => \"(a, b)\",\n",
    "    2 => \"(a, b, c)\", 3 => \"(a, b, c, d)\")\n",
    "\n",
    "  # Perform polynomial fitting\n",
    "  # Reverse coefficients to match output\n",
    "  # Format coefficients\n",
    "  pf = fit(xs, ys, order)\n",
    "  cfs_r = reverse(coeffs(pf))\n",
    "  cfs_fmt = [round(c, digits=2) for c in cfs_r]\n",
    "\n",
    "  # Using string interpolation to print the result\n",
    "  println(\"Curve type for $y_col: \",\n",
    "    order_text[order])\n",
    "  println(\"Coefficients \",\n",
    "    \"$(coeff_text[order]):\\n\\t$cfs_fmt\\n\")\n",
    "end"
   ]
  },
  {
   "cell_type": "code",
   "execution_count": 4,
   "id": "bc196652-3aff-4adb-8b08-3d97f9869397",
   "metadata": {},
   "outputs": [
    {
     "name": "stdout",
     "output_type": "stream",
     "text": [
      "Using Polynomials.fit\n",
      "\n",
      "Curve type for ys1: Linear\n",
      "Coefficients (a, b):\n",
      "\t[4.0, 5.0]\n",
      "\n",
      "Curve type for ys2: Quadratic\n",
      "Coefficients (a, b, c):\n",
      "\t[3.0, 4.0, 5.0]\n",
      "\n",
      "Curve type for ys3: Cubic\n",
      "Coefficients (a, b, c, d):\n",
      "\t[2.0, 3.0, 4.0, 5.0]\n",
      "\n"
     ]
    }
   ],
   "source": [
    "# Read data from CSV file\n",
    "df = CSV.read(\"series.csv\", DataFrame)\n",
    "\n",
    "# Strip spaces from column names\n",
    "rename!(df, Symbol.(strip.(string.(names(df)), ' ')))\n",
    "\n",
    "# Call the function for each y column\n",
    "# with respective order\n",
    "println(\"Using Polynomials.fit\\n\")\n",
    "calc_coeff(df, :xs, :ys1, 1)\n",
    "calc_coeff(df, :xs, :ys2, 2)\n",
    "calc_coeff(df, :xs, :ys3, 3)"
   ]
  },
  {
   "cell_type": "code",
   "execution_count": null,
   "id": "69388eb1-ff82-49ba-8f92-60a195d9b714",
   "metadata": {},
   "outputs": [],
   "source": []
  }
 ],
 "metadata": {
  "kernelspec": {
   "display_name": "Julia 1.10.2",
   "language": "julia",
   "name": "julia-1.10"
  },
  "language_info": {
   "file_extension": ".jl",
   "mimetype": "application/julia",
   "name": "julia",
   "version": "1.10.2"
  }
 },
 "nbformat": 4,
 "nbformat_minor": 5
}
