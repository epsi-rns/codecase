{
 "cells": [
  {
   "cell_type": "code",
   "execution_count": 1,
   "id": "9ed44bfc-265b-4a46-ad3e-6871bbf48ed8",
   "metadata": {},
   "outputs": [
    {
     "data": {
      "text/plain": [
       "13-element Vector{Int64}:\n",
       "  5\n",
       "  9\n",
       " 13\n",
       " 17\n",
       " 21\n",
       " 25\n",
       " 29\n",
       " 33\n",
       " 37\n",
       " 41\n",
       " 45\n",
       " 49\n",
       " 53"
      ]
     },
     "execution_count": 1,
     "metadata": {},
     "output_type": "execute_result"
    }
   ],
   "source": [
    "# Given data\n",
    "x_values = [\n",
    "  0, 1, 2, 3, 4, 5, 6, 7, 8, 9, 10, 11, 12]\n",
    "y_values = [\n",
    "  5, 9, 13, 17, 21, 25, 29,\n",
    "  33, 37, 41, 45, 49, 53]"
   ]
  },
  {
   "cell_type": "code",
   "execution_count": 2,
   "id": "0a483806-7b69-472d-a0db-1eff3f6e691f",
   "metadata": {},
   "outputs": [
    {
     "name": "stdout",
     "output_type": "stream",
     "text": [
      "Using Polynomials.fit\n",
      "Coefficients (a, b):\n",
      "[4.0, 5.0]\n",
      "\n"
     ]
    }
   ],
   "source": [
    "using Polynomials\n",
    "\n",
    "# Curve Fitting Order\n",
    "order = 1\n",
    "\n",
    "# Perform linear regression using Polynomials.fit\n",
    "pf = fit(x_values, y_values, order)\n",
    "println(\"Using Polynomials.fit\")\n",
    "\n",
    "# Extract coefficients and reverse them\n",
    "coeffs_r= reverse(coeffs(pf)) \n",
    "println(\"Coefficients (a, b):\")\n",
    "\n",
    "# Format coefficients\n",
    "coeffs_fmt = [\n",
    "  round(c, digits=2) for c in coeffs_r]  \n",
    "println(coeffs_fmt, \"\\n\")"
   ]
  },
  {
   "cell_type": "code",
   "execution_count": null,
   "id": "c29f803e-592f-490e-b4cb-35296e38cb75",
   "metadata": {},
   "outputs": [],
   "source": []
  }
 ],
 "metadata": {
  "kernelspec": {
   "display_name": "Julia 1.10.2",
   "language": "julia",
   "name": "julia-1.10"
  },
  "language_info": {
   "file_extension": ".jl",
   "mimetype": "application/julia",
   "name": "julia",
   "version": "1.10.2"
  }
 },
 "nbformat": 4,
 "nbformat_minor": 5
}
